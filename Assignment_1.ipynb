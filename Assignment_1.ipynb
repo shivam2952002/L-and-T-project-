{
 "cells": [
  {
   "cell_type": "markdown",
   "metadata": {
    "id": "15Blv_FqlRQ2"
   },
   "source": [
    "## Loading the Fish_Pond Dataset"
   ]
  },
  {
   "cell_type": "code",
   "execution_count": 1,
   "metadata": {
    "id": "ZWW5RJ9eYS_I"
   },
   "outputs": [],
   "source": [
    "import pandas as pd"
   ]
  },
  {
   "cell_type": "markdown",
   "metadata": {
    "id": "j1BS_xdulc5U"
   },
   "source": [
    "## working on only 1 part of data"
   ]
  },
  {
   "cell_type": "code",
   "execution_count": 3,
   "metadata": {
    "id": "PuxK8HBhiVCk"
   },
   "outputs": [],
   "source": [
    "df = pd.read_csv('IoTpond1.csv')"
   ]
  },
  {
   "cell_type": "markdown",
   "metadata": {
    "id": "myf6Uqhnljo3"
   },
   "source": [
    "## Performing EDA on dataset"
   ]
  },
  {
   "cell_type": "code",
   "execution_count": 4,
   "metadata": {
    "colab": {
     "base_uri": "https://localhost:8080/",
     "height": 417
    },
    "id": "T7GSYDnkib3k",
    "outputId": "f1cb3b36-0997-4877-a735-97783100281b"
   },
   "outputs": [
    {
     "data": {
      "text/html": [
       "<div>\n",
       "<style scoped>\n",
       "    .dataframe tbody tr th:only-of-type {\n",
       "        vertical-align: middle;\n",
       "    }\n",
       "\n",
       "    .dataframe tbody tr th {\n",
       "        vertical-align: top;\n",
       "    }\n",
       "\n",
       "    .dataframe thead th {\n",
       "        text-align: right;\n",
       "    }\n",
       "</style>\n",
       "<table border=\"1\" class=\"dataframe\">\n",
       "  <thead>\n",
       "    <tr style=\"text-align: right;\">\n",
       "      <th></th>\n",
       "      <th>created_at</th>\n",
       "      <th>entry_id</th>\n",
       "      <th>Temperature (C)</th>\n",
       "      <th>Turbidity(NTU)</th>\n",
       "      <th>Dissolved Oxygen(g/ml)</th>\n",
       "      <th>PH</th>\n",
       "      <th>Ammonia(g/ml)</th>\n",
       "      <th>Nitrate(g/ml)</th>\n",
       "      <th>Population</th>\n",
       "      <th>Fish_Length(cm)</th>\n",
       "      <th>Fish_Weight(g)</th>\n",
       "    </tr>\n",
       "  </thead>\n",
       "  <tbody>\n",
       "    <tr>\n",
       "      <th>0</th>\n",
       "      <td>2021-06-19 00:00:05 CET</td>\n",
       "      <td>1889</td>\n",
       "      <td>24.8750</td>\n",
       "      <td>100</td>\n",
       "      <td>4.505</td>\n",
       "      <td>8.43365</td>\n",
       "      <td>0.45842</td>\n",
       "      <td>193</td>\n",
       "      <td>50</td>\n",
       "      <td>7.11</td>\n",
       "      <td>2.91</td>\n",
       "    </tr>\n",
       "    <tr>\n",
       "      <th>1</th>\n",
       "      <td>2021-06-19 00:01:02 CET</td>\n",
       "      <td>1890</td>\n",
       "      <td>24.9375</td>\n",
       "      <td>100</td>\n",
       "      <td>6.601</td>\n",
       "      <td>8.43818</td>\n",
       "      <td>0.45842</td>\n",
       "      <td>194</td>\n",
       "      <td>50</td>\n",
       "      <td>7.11</td>\n",
       "      <td>2.91</td>\n",
       "    </tr>\n",
       "    <tr>\n",
       "      <th>2</th>\n",
       "      <td>2021-06-19 00:01:22 CET</td>\n",
       "      <td>1891</td>\n",
       "      <td>24.8750</td>\n",
       "      <td>100</td>\n",
       "      <td>15.797</td>\n",
       "      <td>8.42457</td>\n",
       "      <td>0.45842</td>\n",
       "      <td>192</td>\n",
       "      <td>50</td>\n",
       "      <td>7.11</td>\n",
       "      <td>2.91</td>\n",
       "    </tr>\n",
       "    <tr>\n",
       "      <th>3</th>\n",
       "      <td>2021-06-19 00:01:44 CET</td>\n",
       "      <td>1892</td>\n",
       "      <td>24.9375</td>\n",
       "      <td>100</td>\n",
       "      <td>5.046</td>\n",
       "      <td>8.43365</td>\n",
       "      <td>0.45842</td>\n",
       "      <td>193</td>\n",
       "      <td>50</td>\n",
       "      <td>7.11</td>\n",
       "      <td>2.91</td>\n",
       "    </tr>\n",
       "    <tr>\n",
       "      <th>4</th>\n",
       "      <td>2021-06-19 00:02:07 CET</td>\n",
       "      <td>1893</td>\n",
       "      <td>24.9375</td>\n",
       "      <td>100</td>\n",
       "      <td>38.407</td>\n",
       "      <td>8.40641</td>\n",
       "      <td>0.45842</td>\n",
       "      <td>192</td>\n",
       "      <td>50</td>\n",
       "      <td>7.11</td>\n",
       "      <td>2.91</td>\n",
       "    </tr>\n",
       "  </tbody>\n",
       "</table>\n",
       "</div>"
      ],
      "text/plain": [
       "                created_at  entry_id  Temperature (C)  Turbidity(NTU)  \\\n",
       "0  2021-06-19 00:00:05 CET      1889          24.8750             100   \n",
       "1  2021-06-19 00:01:02 CET      1890          24.9375             100   \n",
       "2  2021-06-19 00:01:22 CET      1891          24.8750             100   \n",
       "3  2021-06-19 00:01:44 CET      1892          24.9375             100   \n",
       "4  2021-06-19 00:02:07 CET      1893          24.9375             100   \n",
       "\n",
       "   Dissolved Oxygen(g/ml)       PH  Ammonia(g/ml)  Nitrate(g/ml)  Population  \\\n",
       "0                   4.505  8.43365        0.45842            193          50   \n",
       "1                   6.601  8.43818        0.45842            194          50   \n",
       "2                  15.797  8.42457        0.45842            192          50   \n",
       "3                   5.046  8.43365        0.45842            193          50   \n",
       "4                  38.407  8.40641        0.45842            192          50   \n",
       "\n",
       "   Fish_Length(cm)  Fish_Weight(g)  \n",
       "0             7.11            2.91  \n",
       "1             7.11            2.91  \n",
       "2             7.11            2.91  \n",
       "3             7.11            2.91  \n",
       "4             7.11            2.91  "
      ]
     },
     "execution_count": 4,
     "metadata": {},
     "output_type": "execute_result"
    }
   ],
   "source": [
    "df.head()"
   ]
  },
  {
   "cell_type": "code",
   "execution_count": 5,
   "metadata": {
    "colab": {
     "base_uri": "https://localhost:8080/",
     "height": 461
    },
    "id": "5KWPkf06idda",
    "outputId": "9f26c56f-5162-4ad4-c657-7eb7ba440935"
   },
   "outputs": [
    {
     "data": {
      "text/html": [
       "<div>\n",
       "<style scoped>\n",
       "    .dataframe tbody tr th:only-of-type {\n",
       "        vertical-align: middle;\n",
       "    }\n",
       "\n",
       "    .dataframe tbody tr th {\n",
       "        vertical-align: top;\n",
       "    }\n",
       "\n",
       "    .dataframe thead th {\n",
       "        text-align: right;\n",
       "    }\n",
       "</style>\n",
       "<table border=\"1\" class=\"dataframe\">\n",
       "  <thead>\n",
       "    <tr style=\"text-align: right;\">\n",
       "      <th></th>\n",
       "      <th>created_at</th>\n",
       "      <th>entry_id</th>\n",
       "      <th>Temperature (C)</th>\n",
       "      <th>Turbidity(NTU)</th>\n",
       "      <th>Dissolved Oxygen(g/ml)</th>\n",
       "      <th>PH</th>\n",
       "      <th>Ammonia(g/ml)</th>\n",
       "      <th>Nitrate(g/ml)</th>\n",
       "      <th>Population</th>\n",
       "      <th>Fish_Length(cm)</th>\n",
       "      <th>Fish_Weight(g)</th>\n",
       "    </tr>\n",
       "  </thead>\n",
       "  <tbody>\n",
       "    <tr>\n",
       "      <th>0</th>\n",
       "      <td>False</td>\n",
       "      <td>False</td>\n",
       "      <td>False</td>\n",
       "      <td>False</td>\n",
       "      <td>False</td>\n",
       "      <td>False</td>\n",
       "      <td>False</td>\n",
       "      <td>False</td>\n",
       "      <td>False</td>\n",
       "      <td>False</td>\n",
       "      <td>False</td>\n",
       "    </tr>\n",
       "    <tr>\n",
       "      <th>1</th>\n",
       "      <td>False</td>\n",
       "      <td>False</td>\n",
       "      <td>False</td>\n",
       "      <td>False</td>\n",
       "      <td>False</td>\n",
       "      <td>False</td>\n",
       "      <td>False</td>\n",
       "      <td>False</td>\n",
       "      <td>False</td>\n",
       "      <td>False</td>\n",
       "      <td>False</td>\n",
       "    </tr>\n",
       "    <tr>\n",
       "      <th>2</th>\n",
       "      <td>False</td>\n",
       "      <td>False</td>\n",
       "      <td>False</td>\n",
       "      <td>False</td>\n",
       "      <td>False</td>\n",
       "      <td>False</td>\n",
       "      <td>False</td>\n",
       "      <td>False</td>\n",
       "      <td>False</td>\n",
       "      <td>False</td>\n",
       "      <td>False</td>\n",
       "    </tr>\n",
       "    <tr>\n",
       "      <th>3</th>\n",
       "      <td>False</td>\n",
       "      <td>False</td>\n",
       "      <td>False</td>\n",
       "      <td>False</td>\n",
       "      <td>False</td>\n",
       "      <td>False</td>\n",
       "      <td>False</td>\n",
       "      <td>False</td>\n",
       "      <td>False</td>\n",
       "      <td>False</td>\n",
       "      <td>False</td>\n",
       "    </tr>\n",
       "    <tr>\n",
       "      <th>4</th>\n",
       "      <td>False</td>\n",
       "      <td>False</td>\n",
       "      <td>False</td>\n",
       "      <td>False</td>\n",
       "      <td>False</td>\n",
       "      <td>False</td>\n",
       "      <td>False</td>\n",
       "      <td>False</td>\n",
       "      <td>False</td>\n",
       "      <td>False</td>\n",
       "      <td>False</td>\n",
       "    </tr>\n",
       "    <tr>\n",
       "      <th>...</th>\n",
       "      <td>...</td>\n",
       "      <td>...</td>\n",
       "      <td>...</td>\n",
       "      <td>...</td>\n",
       "      <td>...</td>\n",
       "      <td>...</td>\n",
       "      <td>...</td>\n",
       "      <td>...</td>\n",
       "      <td>...</td>\n",
       "      <td>...</td>\n",
       "      <td>...</td>\n",
       "    </tr>\n",
       "    <tr>\n",
       "      <th>83121</th>\n",
       "      <td>False</td>\n",
       "      <td>False</td>\n",
       "      <td>False</td>\n",
       "      <td>False</td>\n",
       "      <td>False</td>\n",
       "      <td>False</td>\n",
       "      <td>False</td>\n",
       "      <td>False</td>\n",
       "      <td>False</td>\n",
       "      <td>False</td>\n",
       "      <td>False</td>\n",
       "    </tr>\n",
       "    <tr>\n",
       "      <th>83122</th>\n",
       "      <td>False</td>\n",
       "      <td>False</td>\n",
       "      <td>False</td>\n",
       "      <td>False</td>\n",
       "      <td>False</td>\n",
       "      <td>False</td>\n",
       "      <td>False</td>\n",
       "      <td>False</td>\n",
       "      <td>False</td>\n",
       "      <td>False</td>\n",
       "      <td>False</td>\n",
       "    </tr>\n",
       "    <tr>\n",
       "      <th>83123</th>\n",
       "      <td>False</td>\n",
       "      <td>False</td>\n",
       "      <td>False</td>\n",
       "      <td>False</td>\n",
       "      <td>False</td>\n",
       "      <td>False</td>\n",
       "      <td>False</td>\n",
       "      <td>False</td>\n",
       "      <td>False</td>\n",
       "      <td>False</td>\n",
       "      <td>False</td>\n",
       "    </tr>\n",
       "    <tr>\n",
       "      <th>83124</th>\n",
       "      <td>False</td>\n",
       "      <td>False</td>\n",
       "      <td>False</td>\n",
       "      <td>False</td>\n",
       "      <td>False</td>\n",
       "      <td>False</td>\n",
       "      <td>False</td>\n",
       "      <td>False</td>\n",
       "      <td>False</td>\n",
       "      <td>False</td>\n",
       "      <td>False</td>\n",
       "    </tr>\n",
       "    <tr>\n",
       "      <th>83125</th>\n",
       "      <td>False</td>\n",
       "      <td>False</td>\n",
       "      <td>False</td>\n",
       "      <td>False</td>\n",
       "      <td>False</td>\n",
       "      <td>False</td>\n",
       "      <td>False</td>\n",
       "      <td>False</td>\n",
       "      <td>False</td>\n",
       "      <td>False</td>\n",
       "      <td>False</td>\n",
       "    </tr>\n",
       "  </tbody>\n",
       "</table>\n",
       "<p>83126 rows × 11 columns</p>\n",
       "</div>"
      ],
      "text/plain": [
       "       created_at  entry_id  Temperature (C)  Turbidity(NTU)  \\\n",
       "0           False     False            False           False   \n",
       "1           False     False            False           False   \n",
       "2           False     False            False           False   \n",
       "3           False     False            False           False   \n",
       "4           False     False            False           False   \n",
       "...           ...       ...              ...             ...   \n",
       "83121       False     False            False           False   \n",
       "83122       False     False            False           False   \n",
       "83123       False     False            False           False   \n",
       "83124       False     False            False           False   \n",
       "83125       False     False            False           False   \n",
       "\n",
       "       Dissolved Oxygen(g/ml)     PH  Ammonia(g/ml)  Nitrate(g/ml)  \\\n",
       "0                       False  False          False          False   \n",
       "1                       False  False          False          False   \n",
       "2                       False  False          False          False   \n",
       "3                       False  False          False          False   \n",
       "4                       False  False          False          False   \n",
       "...                       ...    ...            ...            ...   \n",
       "83121                   False  False          False          False   \n",
       "83122                   False  False          False          False   \n",
       "83123                   False  False          False          False   \n",
       "83124                   False  False          False          False   \n",
       "83125                   False  False          False          False   \n",
       "\n",
       "       Population  Fish_Length(cm)  Fish_Weight(g)  \n",
       "0           False            False           False  \n",
       "1           False            False           False  \n",
       "2           False            False           False  \n",
       "3           False            False           False  \n",
       "4           False            False           False  \n",
       "...           ...              ...             ...  \n",
       "83121       False            False           False  \n",
       "83122       False            False           False  \n",
       "83123       False            False           False  \n",
       "83124       False            False           False  \n",
       "83125       False            False           False  \n",
       "\n",
       "[83126 rows x 11 columns]"
      ]
     },
     "execution_count": 5,
     "metadata": {},
     "output_type": "execute_result"
    }
   ],
   "source": [
    "df.isnull()"
   ]
  },
  {
   "cell_type": "code",
   "execution_count": 6,
   "metadata": {
    "colab": {
     "base_uri": "https://localhost:8080/"
    },
    "id": "yTknK5_wiryb",
    "outputId": "88439ab2-6e57-4018-d184-76ff3609088f"
   },
   "outputs": [
    {
     "name": "stdout",
     "output_type": "stream",
     "text": [
      "<class 'pandas.core.frame.DataFrame'>\n",
      "RangeIndex: 83126 entries, 0 to 83125\n",
      "Data columns (total 11 columns):\n",
      " #   Column                  Non-Null Count  Dtype  \n",
      "---  ------                  --------------  -----  \n",
      " 0   created_at              83126 non-null  object \n",
      " 1   entry_id                83126 non-null  int64  \n",
      " 2   Temperature (C)         83126 non-null  float64\n",
      " 3   Turbidity(NTU)          83126 non-null  int64  \n",
      " 4   Dissolved Oxygen(g/ml)  83126 non-null  float64\n",
      " 5   PH                      83126 non-null  float64\n",
      " 6   Ammonia(g/ml)           83074 non-null  float64\n",
      " 7   Nitrate(g/ml)           83126 non-null  int64  \n",
      " 8   Population              83126 non-null  int64  \n",
      " 9   Fish_Length(cm)         83124 non-null  float64\n",
      " 10  Fish_Weight(g)          83124 non-null  float64\n",
      "dtypes: float64(6), int64(4), object(1)\n",
      "memory usage: 7.0+ MB\n"
     ]
    }
   ],
   "source": [
    "df.info()"
   ]
  },
  {
   "cell_type": "markdown",
   "metadata": {
    "id": "iNe3vb0qlwO8"
   },
   "source": [
    "## Finding Noise and removing it from dataset"
   ]
  },
  {
   "cell_type": "markdown",
   "metadata": {
    "id": "1k9iuqEml-Ls"
   },
   "source": [
    "### Dealing with Null values"
   ]
  },
  {
   "cell_type": "code",
   "execution_count": 7,
   "metadata": {
    "colab": {
     "base_uri": "https://localhost:8080/"
    },
    "id": "L3CIYNQPiyFc",
    "outputId": "82d67086-740a-49a1-b205-ab8a8c93fb65"
   },
   "outputs": [
    {
     "data": {
      "text/plain": [
       "created_at                 0\n",
       "entry_id                   0\n",
       "Temperature (C)            0\n",
       "Turbidity(NTU)             0\n",
       "Dissolved Oxygen(g/ml)     0\n",
       "PH                         0\n",
       "Ammonia(g/ml)             52\n",
       "Nitrate(g/ml)              0\n",
       "Population                 0\n",
       "Fish_Length(cm)            2\n",
       "Fish_Weight(g)             2\n",
       "dtype: int64"
      ]
     },
     "execution_count": 7,
     "metadata": {},
     "output_type": "execute_result"
    }
   ],
   "source": [
    "df.isnull().sum()"
   ]
  },
  {
   "cell_type": "code",
   "execution_count": 8,
   "metadata": {
    "colab": {
     "base_uri": "https://localhost:8080/"
    },
    "id": "nw-BUmi7i8Uu",
    "outputId": "7c2d3e78-3736-4588-bb26-4e85ce139603"
   },
   "outputs": [
    {
     "name": "stdout",
     "output_type": "stream",
     "text": [
      "Count of missing values in each column before handling:\n",
      "created_at                 0\n",
      "entry_id                   0\n",
      "Temperature (C)            0\n",
      "Turbidity(NTU)             0\n",
      "Dissolved Oxygen(g/ml)     0\n",
      "PH                         0\n",
      "Ammonia(g/ml)             52\n",
      "Nitrate(g/ml)              0\n",
      "Population                 0\n",
      "Fish_Length(cm)            2\n",
      "Fish_Weight(g)             2\n",
      "dtype: int64\n",
      "\n",
      "Count of missing values in each column after handling:\n",
      "created_at                0\n",
      "entry_id                  0\n",
      "Temperature (C)           0\n",
      "Turbidity(NTU)            0\n",
      "Dissolved Oxygen(g/ml)    0\n",
      "PH                        0\n",
      "Ammonia(g/ml)             0\n",
      "Nitrate(g/ml)             0\n",
      "Population                0\n",
      "Fish_Length(cm)           0\n",
      "Fish_Weight(g)            0\n",
      "dtype: int64\n"
     ]
    }
   ],
   "source": [
    "# Check for missing values and handle them\n",
    "print(\"Count of missing values in each column before handling:\")\n",
    "print(df.isnull().sum())\n",
    "\n",
    "df = df.dropna()\n",
    "\n",
    "print(\"\\nCount of missing values in each column after handling:\")\n",
    "print(df.isnull().sum())"
   ]
  },
  {
   "cell_type": "markdown",
   "metadata": {
    "id": "FNAslUXNmEl6"
   },
   "source": [
    "### Dealing with duplicate values"
   ]
  },
  {
   "cell_type": "code",
   "execution_count": 9,
   "metadata": {
    "colab": {
     "base_uri": "https://localhost:8080/"
    },
    "id": "mGxqtnpbjIRm",
    "outputId": "3fa2f729-27f9-4c5f-ca9a-362dc0efbd91"
   },
   "outputs": [
    {
     "name": "stdout",
     "output_type": "stream",
     "text": [
      "Original DataFrame:\n",
      "                    created_at  entry_id  Temperature (C)  Turbidity(NTU)  \\\n",
      "0      2021-06-19 00:00:05 CET      1889          24.8750             100   \n",
      "1      2021-06-19 00:01:02 CET      1890          24.9375             100   \n",
      "2      2021-06-19 00:01:22 CET      1891          24.8750             100   \n",
      "3      2021-06-19 00:01:44 CET      1892          24.9375             100   \n",
      "4      2021-06-19 00:02:07 CET      1893          24.9375             100   \n",
      "...                        ...       ...              ...             ...   \n",
      "83121  2021-10-13 02:48:31 CET    247201          26.5625             100   \n",
      "83122  2021-10-13 03:17:36 CET    247273          26.5625             100   \n",
      "83123  2021-10-13 03:46:49 CET    247336          26.5000             100   \n",
      "83124  2021-10-13 04:13:23 CET    247402          26.3750             100   \n",
      "83125  2021-10-13 04:14:22 CET    247405          26.3750             100   \n",
      "\n",
      "       Dissolved Oxygen(g/ml)       PH  Ammonia(g/ml)  Nitrate(g/ml)  \\\n",
      "0                       4.505  8.43365        0.45842            193   \n",
      "1                       6.601  8.43818        0.45842            194   \n",
      "2                      15.797  8.42457        0.45842            192   \n",
      "3                       5.046  8.43365        0.45842            193   \n",
      "4                      38.407  8.40641        0.45842            192   \n",
      "...                       ...      ...            ...            ...   \n",
      "83121                   0.441  2.56412        5.91282            946   \n",
      "83122                   1.020  2.67760        4.21414            985   \n",
      "83123                   0.852  2.45063        8.18873            963   \n",
      "83124                   4.850  2.41885       10.62411            944   \n",
      "83125                   1.279  2.40524       10.07556            943   \n",
      "\n",
      "       Population  Fish_Length(cm)  Fish_Weight(g)  \n",
      "0              50             7.11            2.91  \n",
      "1              50             7.11            2.91  \n",
      "2              50             7.11            2.91  \n",
      "3              50             7.11            2.91  \n",
      "4              50             7.11            2.91  \n",
      "...           ...              ...             ...  \n",
      "83121          50            33.45          318.64  \n",
      "83122          50            33.45          318.64  \n",
      "83123          50            33.45          318.64  \n",
      "83124          50            33.45          318.64  \n",
      "83125          50            33.45          318.64  \n",
      "\n",
      "[83072 rows x 11 columns]\n",
      "\n",
      "Rows that are duplicates of a previous row:\n",
      "0        False\n",
      "1        False\n",
      "2        False\n",
      "3        False\n",
      "4        False\n",
      "         ...  \n",
      "83121    False\n",
      "83122    False\n",
      "83123    False\n",
      "83124    False\n",
      "83125    False\n",
      "Length: 83072, dtype: bool\n"
     ]
    }
   ],
   "source": [
    "# Identify duplicate values\n",
    "print(\"Original DataFrame:\")\n",
    "print(df)\n",
    "\n",
    "print(\"\\nRows that are duplicates of a previous row:\")\n",
    "print(df.duplicated())"
   ]
  },
  {
   "cell_type": "code",
   "execution_count": 10,
   "metadata": {
    "colab": {
     "base_uri": "https://localhost:8080/"
    },
    "id": "W54RXYM5jfLP",
    "outputId": "98e0f58a-afd4-4afb-9f8a-8dee15048717"
   },
   "outputs": [
    {
     "name": "stdout",
     "output_type": "stream",
     "text": [
      "\n",
      "DataFrame after dropping duplicate rows:\n",
      "                    created_at  entry_id  Temperature (C)  Turbidity(NTU)  \\\n",
      "0      2021-06-19 00:00:05 CET      1889          24.8750             100   \n",
      "1      2021-06-19 00:01:02 CET      1890          24.9375             100   \n",
      "2      2021-06-19 00:01:22 CET      1891          24.8750             100   \n",
      "3      2021-06-19 00:01:44 CET      1892          24.9375             100   \n",
      "4      2021-06-19 00:02:07 CET      1893          24.9375             100   \n",
      "...                        ...       ...              ...             ...   \n",
      "83121  2021-10-13 02:48:31 CET    247201          26.5625             100   \n",
      "83122  2021-10-13 03:17:36 CET    247273          26.5625             100   \n",
      "83123  2021-10-13 03:46:49 CET    247336          26.5000             100   \n",
      "83124  2021-10-13 04:13:23 CET    247402          26.3750             100   \n",
      "83125  2021-10-13 04:14:22 CET    247405          26.3750             100   \n",
      "\n",
      "       Dissolved Oxygen(g/ml)       PH  Ammonia(g/ml)  Nitrate(g/ml)  \\\n",
      "0                       4.505  8.43365        0.45842            193   \n",
      "1                       6.601  8.43818        0.45842            194   \n",
      "2                      15.797  8.42457        0.45842            192   \n",
      "3                       5.046  8.43365        0.45842            193   \n",
      "4                      38.407  8.40641        0.45842            192   \n",
      "...                       ...      ...            ...            ...   \n",
      "83121                   0.441  2.56412        5.91282            946   \n",
      "83122                   1.020  2.67760        4.21414            985   \n",
      "83123                   0.852  2.45063        8.18873            963   \n",
      "83124                   4.850  2.41885       10.62411            944   \n",
      "83125                   1.279  2.40524       10.07556            943   \n",
      "\n",
      "       Population  Fish_Length(cm)  Fish_Weight(g)  \n",
      "0              50             7.11            2.91  \n",
      "1              50             7.11            2.91  \n",
      "2              50             7.11            2.91  \n",
      "3              50             7.11            2.91  \n",
      "4              50             7.11            2.91  \n",
      "...           ...              ...             ...  \n",
      "83121          50            33.45          318.64  \n",
      "83122          50            33.45          318.64  \n",
      "83123          50            33.45          318.64  \n",
      "83124          50            33.45          318.64  \n",
      "83125          50            33.45          318.64  \n",
      "\n",
      "[83072 rows x 11 columns]\n"
     ]
    }
   ],
   "source": [
    "# Drop duplicate values\n",
    "df = df.drop_duplicates()\n",
    "\n",
    "print(\"\\nDataFrame after dropping duplicate rows:\")\n",
    "print(df)"
   ]
  },
  {
   "cell_type": "code",
   "execution_count": 11,
   "metadata": {
    "colab": {
     "base_uri": "https://localhost:8080/",
     "height": 417
    },
    "id": "DkpDHDRNjncu",
    "outputId": "5e4713df-4afd-4920-94aa-b19505493188"
   },
   "outputs": [
    {
     "data": {
      "text/html": [
       "<div>\n",
       "<style scoped>\n",
       "    .dataframe tbody tr th:only-of-type {\n",
       "        vertical-align: middle;\n",
       "    }\n",
       "\n",
       "    .dataframe tbody tr th {\n",
       "        vertical-align: top;\n",
       "    }\n",
       "\n",
       "    .dataframe thead th {\n",
       "        text-align: right;\n",
       "    }\n",
       "</style>\n",
       "<table border=\"1\" class=\"dataframe\">\n",
       "  <thead>\n",
       "    <tr style=\"text-align: right;\">\n",
       "      <th></th>\n",
       "      <th>created_at</th>\n",
       "      <th>entry_id</th>\n",
       "      <th>Temperature (C)</th>\n",
       "      <th>Turbidity(NTU)</th>\n",
       "      <th>Dissolved Oxygen(g/ml)</th>\n",
       "      <th>PH</th>\n",
       "      <th>Ammonia(g/ml)</th>\n",
       "      <th>Nitrate(g/ml)</th>\n",
       "      <th>Population</th>\n",
       "      <th>Fish_Length(cm)</th>\n",
       "      <th>Fish_Weight(g)</th>\n",
       "    </tr>\n",
       "  </thead>\n",
       "  <tbody>\n",
       "    <tr>\n",
       "      <th>0</th>\n",
       "      <td>2021-06-19 00:00:05 CET</td>\n",
       "      <td>1889</td>\n",
       "      <td>24.8750</td>\n",
       "      <td>100</td>\n",
       "      <td>4.505</td>\n",
       "      <td>8.43365</td>\n",
       "      <td>0.45842</td>\n",
       "      <td>193</td>\n",
       "      <td>50</td>\n",
       "      <td>7.11</td>\n",
       "      <td>2.91</td>\n",
       "    </tr>\n",
       "    <tr>\n",
       "      <th>1</th>\n",
       "      <td>2021-06-19 00:01:02 CET</td>\n",
       "      <td>1890</td>\n",
       "      <td>24.9375</td>\n",
       "      <td>100</td>\n",
       "      <td>6.601</td>\n",
       "      <td>8.43818</td>\n",
       "      <td>0.45842</td>\n",
       "      <td>194</td>\n",
       "      <td>50</td>\n",
       "      <td>7.11</td>\n",
       "      <td>2.91</td>\n",
       "    </tr>\n",
       "    <tr>\n",
       "      <th>2</th>\n",
       "      <td>2021-06-19 00:01:22 CET</td>\n",
       "      <td>1891</td>\n",
       "      <td>24.8750</td>\n",
       "      <td>100</td>\n",
       "      <td>15.797</td>\n",
       "      <td>8.42457</td>\n",
       "      <td>0.45842</td>\n",
       "      <td>192</td>\n",
       "      <td>50</td>\n",
       "      <td>7.11</td>\n",
       "      <td>2.91</td>\n",
       "    </tr>\n",
       "    <tr>\n",
       "      <th>3</th>\n",
       "      <td>2021-06-19 00:01:44 CET</td>\n",
       "      <td>1892</td>\n",
       "      <td>24.9375</td>\n",
       "      <td>100</td>\n",
       "      <td>5.046</td>\n",
       "      <td>8.43365</td>\n",
       "      <td>0.45842</td>\n",
       "      <td>193</td>\n",
       "      <td>50</td>\n",
       "      <td>7.11</td>\n",
       "      <td>2.91</td>\n",
       "    </tr>\n",
       "    <tr>\n",
       "      <th>4</th>\n",
       "      <td>2021-06-19 00:02:07 CET</td>\n",
       "      <td>1893</td>\n",
       "      <td>24.9375</td>\n",
       "      <td>100</td>\n",
       "      <td>38.407</td>\n",
       "      <td>8.40641</td>\n",
       "      <td>0.45842</td>\n",
       "      <td>192</td>\n",
       "      <td>50</td>\n",
       "      <td>7.11</td>\n",
       "      <td>2.91</td>\n",
       "    </tr>\n",
       "  </tbody>\n",
       "</table>\n",
       "</div>"
      ],
      "text/plain": [
       "                created_at  entry_id  Temperature (C)  Turbidity(NTU)  \\\n",
       "0  2021-06-19 00:00:05 CET      1889          24.8750             100   \n",
       "1  2021-06-19 00:01:02 CET      1890          24.9375             100   \n",
       "2  2021-06-19 00:01:22 CET      1891          24.8750             100   \n",
       "3  2021-06-19 00:01:44 CET      1892          24.9375             100   \n",
       "4  2021-06-19 00:02:07 CET      1893          24.9375             100   \n",
       "\n",
       "   Dissolved Oxygen(g/ml)       PH  Ammonia(g/ml)  Nitrate(g/ml)  Population  \\\n",
       "0                   4.505  8.43365        0.45842            193          50   \n",
       "1                   6.601  8.43818        0.45842            194          50   \n",
       "2                  15.797  8.42457        0.45842            192          50   \n",
       "3                   5.046  8.43365        0.45842            193          50   \n",
       "4                  38.407  8.40641        0.45842            192          50   \n",
       "\n",
       "   Fish_Length(cm)  Fish_Weight(g)  \n",
       "0             7.11            2.91  \n",
       "1             7.11            2.91  \n",
       "2             7.11            2.91  \n",
       "3             7.11            2.91  \n",
       "4             7.11            2.91  "
      ]
     },
     "execution_count": 11,
     "metadata": {},
     "output_type": "execute_result"
    }
   ],
   "source": [
    "df.head()"
   ]
  },
  {
   "cell_type": "markdown",
   "metadata": {
    "id": "RddSK0oWmNkH"
   },
   "source": [
    "## Note: One can observe that form original dataset there are 83126 values from which we have removed null and duplicacy and now we have about 83072 values"
   ]
  },
  {
   "cell_type": "code",
   "execution_count": 12,
   "metadata": {
    "colab": {
     "base_uri": "https://localhost:8080/"
    },
    "id": "XdHqZT5Hjtjj",
    "outputId": "a9766e69-0efb-46ef-de36-4b083db76102"
   },
   "outputs": [
    {
     "name": "stdout",
     "output_type": "stream",
     "text": [
      "created_at                 object\n",
      "entry_id                    int64\n",
      "Temperature (C)           float64\n",
      "Turbidity(NTU)              int64\n",
      "Dissolved Oxygen(g/ml)    float64\n",
      "PH                        float64\n",
      "Ammonia(g/ml)             float64\n",
      "Nitrate(g/ml)               int64\n",
      "Population                  int64\n",
      "Fish_Length(cm)           float64\n",
      "Fish_Weight(g)            float64\n",
      "dtype: object\n"
     ]
    }
   ],
   "source": [
    "print(df.dtypes)"
   ]
  },
  {
   "cell_type": "code",
   "execution_count": 13,
   "metadata": {
    "colab": {
     "base_uri": "https://localhost:8080/"
    },
    "id": "aDs9XC-TkYGg",
    "outputId": "ac4bbc7e-e36c-4814-c2ed-878e790d6a5b"
   },
   "outputs": [
    {
     "name": "stdout",
     "output_type": "stream",
     "text": [
      "            entry_id  Temperature (C)  Turbidity(NTU)  Dissolved Oxygen(g/ml)  \\\n",
      "count   83072.000000     83072.000000    83072.000000            83072.000000   \n",
      "mean    84048.115466        24.573335       87.482028               12.393208   \n",
      "std     53581.214847         0.861756       25.865811               12.520521   \n",
      "min      1889.000000      -127.000000        1.000000                0.007000   \n",
      "25%     24898.750000        24.125000       91.000000                3.440000   \n",
      "50%    103611.500000        24.562500      100.000000                7.133000   \n",
      "75%    131088.250000        24.937500      100.000000               15.836750   \n",
      "max    247405.000000        27.750000      100.000000               41.046000   \n",
      "\n",
      "                PH  Ammonia(g/ml)  Nitrate(g/ml)  Population  Fish_Length(cm)  \\\n",
      "count  83072.00000   8.307200e+04   83072.000000     83072.0     83072.000000   \n",
      "mean       7.51818   2.030866e+08     458.500277        50.0        16.417063   \n",
      "std        0.53491   7.866325e+09     338.325468         0.0         5.272846   \n",
      "min       -0.58627   6.770000e-03      45.000000        50.0         7.110000   \n",
      "25%        7.15352   4.584200e-01     146.000000        50.0        11.790000   \n",
      "50%        7.35779   6.116600e-01     347.000000        50.0        18.080000   \n",
      "75%        7.83898   1.558803e+01     823.000000        50.0        21.000000   \n",
      "max        8.55167   4.270000e+11    1936.000000        50.0        33.450000   \n",
      "\n",
      "       Fish_Weight(g)  \n",
      "count    83072.000000  \n",
      "mean        44.584918  \n",
      "std         33.218724  \n",
      "min          2.910000  \n",
      "25%         14.190000  \n",
      "50%         54.700000  \n",
      "75%         67.520000  \n",
      "max        318.640000  \n"
     ]
    }
   ],
   "source": [
    "print(df.describe())"
   ]
  },
  {
   "cell_type": "markdown",
   "metadata": {
    "id": "S6A-xFEnmscf"
   },
   "source": [
    "## Removing the irrelavnt columns from dataset there are two columns which are not affecting the target values so we are removing \"created_at\" and \"entry_id\" from original data."
   ]
  },
  {
   "cell_type": "code",
   "execution_count": 14,
   "metadata": {
    "id": "fkO_PDpllNzF"
   },
   "outputs": [],
   "source": [
    "df = df.drop(['created_at', 'entry_id'], axis=1)"
   ]
  },
  {
   "cell_type": "code",
   "execution_count": 15,
   "metadata": {
    "colab": {
     "base_uri": "https://localhost:8080/",
     "height": 588
    },
    "id": "1Lsc0PmUke71",
    "outputId": "ad92e75d-ac58-4811-bff7-7d244c27ab14"
   },
   "outputs": [
    {
     "data": {
      "image/png": "[encoded data removed]",
      "text/plain": [
       "<Figure size 640x480 with 2 Axes>"
      ]
     },
     "metadata": {},
     "output_type": "display_data"
    }
   ],
   "source": [
    "import matplotlib.pyplot as plt\n",
    "\n",
    "import seaborn as sns\n",
    "\n",
    "# Create a heatmap of the correlation matrix\n",
    "sns.heatmap(df.corr(), annot=True, cmap='coolwarm')\n",
    "plt.show()"
   ]
  },
  {
   "cell_type": "code",
   "execution_count": 16,
   "metadata": {
    "colab": {
     "base_uri": "https://localhost:8080/",
     "height": 441
    },
    "id": "kzLD9FX5ksIM",
    "outputId": "c7d77519-66be-4cf9-a188-ed0ca9a530ee"
   },
   "outputs": [
    {
     "data": {
      "text/html": [
       "<div>\n",
       "<style scoped>\n",
       "    .dataframe tbody tr th:only-of-type {\n",
       "        vertical-align: middle;\n",
       "    }\n",
       "\n",
       "    .dataframe tbody tr th {\n",
       "        vertical-align: top;\n",
       "    }\n",
       "\n",
       "    .dataframe thead th {\n",
       "        text-align: right;\n",
       "    }\n",
       "</style>\n",
       "<table border=\"1\" class=\"dataframe\">\n",
       "  <thead>\n",
       "    <tr style=\"text-align: right;\">\n",
       "      <th></th>\n",
       "      <th>Temperature (C)</th>\n",
       "      <th>Turbidity(NTU)</th>\n",
       "      <th>Dissolved Oxygen(g/ml)</th>\n",
       "      <th>PH</th>\n",
       "      <th>Ammonia(g/ml)</th>\n",
       "      <th>Nitrate(g/ml)</th>\n",
       "      <th>Population</th>\n",
       "      <th>Fish_Length(cm)</th>\n",
       "      <th>Fish_Weight(g)</th>\n",
       "    </tr>\n",
       "  </thead>\n",
       "  <tbody>\n",
       "    <tr>\n",
       "      <th>0</th>\n",
       "      <td>24.8750</td>\n",
       "      <td>100</td>\n",
       "      <td>4.505</td>\n",
       "      <td>8.43365</td>\n",
       "      <td>0.45842</td>\n",
       "      <td>193</td>\n",
       "      <td>50</td>\n",
       "      <td>7.11</td>\n",
       "      <td>2.91</td>\n",
       "    </tr>\n",
       "    <tr>\n",
       "      <th>1</th>\n",
       "      <td>24.9375</td>\n",
       "      <td>100</td>\n",
       "      <td>6.601</td>\n",
       "      <td>8.43818</td>\n",
       "      <td>0.45842</td>\n",
       "      <td>194</td>\n",
       "      <td>50</td>\n",
       "      <td>7.11</td>\n",
       "      <td>2.91</td>\n",
       "    </tr>\n",
       "    <tr>\n",
       "      <th>2</th>\n",
       "      <td>24.8750</td>\n",
       "      <td>100</td>\n",
       "      <td>15.797</td>\n",
       "      <td>8.42457</td>\n",
       "      <td>0.45842</td>\n",
       "      <td>192</td>\n",
       "      <td>50</td>\n",
       "      <td>7.11</td>\n",
       "      <td>2.91</td>\n",
       "    </tr>\n",
       "    <tr>\n",
       "      <th>3</th>\n",
       "      <td>24.9375</td>\n",
       "      <td>100</td>\n",
       "      <td>5.046</td>\n",
       "      <td>8.43365</td>\n",
       "      <td>0.45842</td>\n",
       "      <td>193</td>\n",
       "      <td>50</td>\n",
       "      <td>7.11</td>\n",
       "      <td>2.91</td>\n",
       "    </tr>\n",
       "    <tr>\n",
       "      <th>4</th>\n",
       "      <td>24.9375</td>\n",
       "      <td>100</td>\n",
       "      <td>38.407</td>\n",
       "      <td>8.40641</td>\n",
       "      <td>0.45842</td>\n",
       "      <td>192</td>\n",
       "      <td>50</td>\n",
       "      <td>7.11</td>\n",
       "      <td>2.91</td>\n",
       "    </tr>\n",
       "    <tr>\n",
       "      <th>...</th>\n",
       "      <td>...</td>\n",
       "      <td>...</td>\n",
       "      <td>...</td>\n",
       "      <td>...</td>\n",
       "      <td>...</td>\n",
       "      <td>...</td>\n",
       "      <td>...</td>\n",
       "      <td>...</td>\n",
       "      <td>...</td>\n",
       "    </tr>\n",
       "    <tr>\n",
       "      <th>83121</th>\n",
       "      <td>26.5625</td>\n",
       "      <td>100</td>\n",
       "      <td>0.441</td>\n",
       "      <td>2.56412</td>\n",
       "      <td>5.91282</td>\n",
       "      <td>946</td>\n",
       "      <td>50</td>\n",
       "      <td>33.45</td>\n",
       "      <td>318.64</td>\n",
       "    </tr>\n",
       "    <tr>\n",
       "      <th>83122</th>\n",
       "      <td>26.5625</td>\n",
       "      <td>100</td>\n",
       "      <td>1.020</td>\n",
       "      <td>2.67760</td>\n",
       "      <td>4.21414</td>\n",
       "      <td>985</td>\n",
       "      <td>50</td>\n",
       "      <td>33.45</td>\n",
       "      <td>318.64</td>\n",
       "    </tr>\n",
       "    <tr>\n",
       "      <th>83123</th>\n",
       "      <td>26.5000</td>\n",
       "      <td>100</td>\n",
       "      <td>0.852</td>\n",
       "      <td>2.45063</td>\n",
       "      <td>8.18873</td>\n",
       "      <td>963</td>\n",
       "      <td>50</td>\n",
       "      <td>33.45</td>\n",
       "      <td>318.64</td>\n",
       "    </tr>\n",
       "    <tr>\n",
       "      <th>83124</th>\n",
       "      <td>26.3750</td>\n",
       "      <td>100</td>\n",
       "      <td>4.850</td>\n",
       "      <td>2.41885</td>\n",
       "      <td>10.62411</td>\n",
       "      <td>944</td>\n",
       "      <td>50</td>\n",
       "      <td>33.45</td>\n",
       "      <td>318.64</td>\n",
       "    </tr>\n",
       "    <tr>\n",
       "      <th>83125</th>\n",
       "      <td>26.3750</td>\n",
       "      <td>100</td>\n",
       "      <td>1.279</td>\n",
       "      <td>2.40524</td>\n",
       "      <td>10.07556</td>\n",
       "      <td>943</td>\n",
       "      <td>50</td>\n",
       "      <td>33.45</td>\n",
       "      <td>318.64</td>\n",
       "    </tr>\n",
       "  </tbody>\n",
       "</table>\n",
       "<p>83072 rows × 9 columns</p>\n",
       "</div>"
      ],
      "text/plain": [
       "       Temperature (C)  Turbidity(NTU)  Dissolved Oxygen(g/ml)       PH  \\\n",
       "0              24.8750             100                   4.505  8.43365   \n",
       "1              24.9375             100                   6.601  8.43818   \n",
       "2              24.8750             100                  15.797  8.42457   \n",
       "3              24.9375             100                   5.046  8.43365   \n",
       "4              24.9375             100                  38.407  8.40641   \n",
       "...                ...             ...                     ...      ...   \n",
       "83121          26.5625             100                   0.441  2.56412   \n",
       "83122          26.5625             100                   1.020  2.67760   \n",
       "83123          26.5000             100                   0.852  2.45063   \n",
       "83124          26.3750             100                   4.850  2.41885   \n",
       "83125          26.3750             100                   1.279  2.40524   \n",
       "\n",
       "       Ammonia(g/ml)  Nitrate(g/ml)  Population  Fish_Length(cm)  \\\n",
       "0            0.45842            193          50             7.11   \n",
       "1            0.45842            194          50             7.11   \n",
       "2            0.45842            192          50             7.11   \n",
       "3            0.45842            193          50             7.11   \n",
       "4            0.45842            192          50             7.11   \n",
       "...              ...            ...         ...              ...   \n",
       "83121        5.91282            946          50            33.45   \n",
       "83122        4.21414            985          50            33.45   \n",
       "83123        8.18873            963          50            33.45   \n",
       "83124       10.62411            944          50            33.45   \n",
       "83125       10.07556            943          50            33.45   \n",
       "\n",
       "       Fish_Weight(g)  \n",
       "0                2.91  \n",
       "1                2.91  \n",
       "2                2.91  \n",
       "3                2.91  \n",
       "4                2.91  \n",
       "...               ...  \n",
       "83121          318.64  \n",
       "83122          318.64  \n",
       "83123          318.64  \n",
       "83124          318.64  \n",
       "83125          318.64  \n",
       "\n",
       "[83072 rows x 9 columns]"
      ]
     },
     "execution_count": 16,
     "metadata": {},
     "output_type": "execute_result"
    }
   ],
   "source": [
    "df"
   ]
  },
  {
   "cell_type": "markdown",
   "metadata": {
    "id": "0mSrmqIsA1Xv"
   },
   "source": [
    "# Conclusion: We have performed Data Analysis(EDA)/ preprocessing of dataset. In our dataset we are focusing on maintain the Ph qaulity of water for certain sets conditions."
   ]
  },
  {
   "cell_type": "markdown",
   "metadata": {
    "id": "LgJx3VE1BUfG"
   },
   "source": [
    "# My GitHub_proje Link: https://github.com/shivam2952002/L-and-T-project-"
   ]
  },
  {
   "cell_type": "code",
   "execution_count": null,
   "metadata": {},
   "outputs": [],
   "source": []
  }
 ],
 "metadata": {
  "accelerator": "TPU",
  "colab": {
   "provenance": []
  },
  "kernelspec": {
   "display_name": "Python 3 (ipykernel)",
   "language": "python",
   "name": "python3"
  },
  "language_info": {
   "codemirror_mode": {
    "name": "ipython",
    "version": 3
   },
   "file_extension": ".py",
   "mimetype": "text/x-python",
   "name": "python",
   "nbconvert_exporter": "python",
   "pygments_lexer": "ipython3",
   "version": "3.9.5"
  }
 },
 "nbformat": 4,
 "nbformat_minor": 1
}
