{
 "cells": [
  {
   "cell_type": "markdown",
   "metadata": {
    "id": "15Blv_FqlRQ2"
   },
   "source": [
    "## Loading the Fish_Pond Dataset"
   ]
  },
  {
   "cell_type": "code",
   "execution_count": 1,
   "metadata": {
    "id": "ZWW5RJ9eYS_I"
   },
   "outputs": [],
   "source": [
    "import pandas as pd"
   ]
  },
  {
   "cell_type": "markdown",
   "metadata": {
    "id": "j1BS_xdulc5U"
   },
   "source": [
    "## working on only 1 part of data"
   ]
  },
  {
   "cell_type": "code",
   "execution_count": 2,
   "metadata": {
    "id": "PuxK8HBhiVCk"
   },
   "outputs": [],
   "source": [
    "df = pd.read_csv('IoTpond1.csv')"
   ]
  },
  {
   "cell_type": "markdown",
   "metadata": {
    "id": "myf6Uqhnljo3"
   },
   "source": [
    "## Performing EDA on dataset"
   ]
  },
  {
   "cell_type": "code",
   "execution_count": 3,
   "metadata": {
    "colab": {
     "base_uri": "https://localhost:8080/",
     "height": 417
    },
    "id": "T7GSYDnkib3k",
    "outputId": "f1cb3b36-0997-4877-a735-97783100281b"
   },
   "outputs": [
    {
     "data": {
      "text/html": [
       "<div>\n",
       "<style scoped>\n",
       "    .dataframe tbody tr th:only-of-type {\n",
       "        vertical-align: middle;\n",
       "    }\n",
       "\n",
       "    .dataframe tbody tr th {\n",
       "        vertical-align: top;\n",
       "    }\n",
       "\n",
       "    .dataframe thead th {\n",
       "        text-align: right;\n",
       "    }\n",
       "</style>\n",
       "<table border=\"1\" class=\"dataframe\">\n",
       "  <thead>\n",
       "    <tr style=\"text-align: right;\">\n",
       "      <th></th>\n",
       "      <th>created_at</th>\n",
       "      <th>entry_id</th>\n",
       "      <th>Temperature (C)</th>\n",
       "      <th>Turbidity(NTU)</th>\n",
       "      <th>Dissolved Oxygen(g/ml)</th>\n",
       "      <th>PH</th>\n",
       "      <th>Ammonia(g/ml)</th>\n",
       "      <th>Nitrate(g/ml)</th>\n",
       "      <th>Population</th>\n",
       "      <th>Fish_Length(cm)</th>\n",
       "      <th>Fish_Weight(g)</th>\n",
       "    </tr>\n",
       "  </thead>\n",
       "  <tbody>\n",
       "    <tr>\n",
       "      <th>0</th>\n",
       "      <td>2021-06-19 00:00:05 CET</td>\n",
       "      <td>1889</td>\n",
       "      <td>24.8750</td>\n",
       "      <td>100</td>\n",
       "      <td>4.505</td>\n",
       "      <td>8.43365</td>\n",
       "      <td>0.45842</td>\n",
       "      <td>193</td>\n",
       "      <td>50</td>\n",
       "      <td>7.11</td>\n",
       "      <td>2.91</td>\n",
       "    </tr>\n",
       "    <tr>\n",
       "      <th>1</th>\n",
       "      <td>2021-06-19 00:01:02 CET</td>\n",
       "      <td>1890</td>\n",
       "      <td>24.9375</td>\n",
       "      <td>100</td>\n",
       "      <td>6.601</td>\n",
       "      <td>8.43818</td>\n",
       "      <td>0.45842</td>\n",
       "      <td>194</td>\n",
       "      <td>50</td>\n",
       "      <td>7.11</td>\n",
       "      <td>2.91</td>\n",
       "    </tr>\n",
       "    <tr>\n",
       "      <th>2</th>\n",
       "      <td>2021-06-19 00:01:22 CET</td>\n",
       "      <td>1891</td>\n",
       "      <td>24.8750</td>\n",
       "      <td>100</td>\n",
       "      <td>15.797</td>\n",
       "      <td>8.42457</td>\n",
       "      <td>0.45842</td>\n",
       "      <td>192</td>\n",
       "      <td>50</td>\n",
       "      <td>7.11</td>\n",
       "      <td>2.91</td>\n",
       "    </tr>\n",
       "    <tr>\n",
       "      <th>3</th>\n",
       "      <td>2021-06-19 00:01:44 CET</td>\n",
       "      <td>1892</td>\n",
       "      <td>24.9375</td>\n",
       "      <td>100</td>\n",
       "      <td>5.046</td>\n",
       "      <td>8.43365</td>\n",
       "      <td>0.45842</td>\n",
       "      <td>193</td>\n",
       "      <td>50</td>\n",
       "      <td>7.11</td>\n",
       "      <td>2.91</td>\n",
       "    </tr>\n",
       "    <tr>\n",
       "      <th>4</th>\n",
       "      <td>2021-06-19 00:02:07 CET</td>\n",
       "      <td>1893</td>\n",
       "      <td>24.9375</td>\n",
       "      <td>100</td>\n",
       "      <td>38.407</td>\n",
       "      <td>8.40641</td>\n",
       "      <td>0.45842</td>\n",
       "      <td>192</td>\n",
       "      <td>50</td>\n",
       "      <td>7.11</td>\n",
       "      <td>2.91</td>\n",
       "    </tr>\n",
       "  </tbody>\n",
       "</table>\n",
       "</div>"
      ],
      "text/plain": [
       "                created_at  entry_id  Temperature (C)  Turbidity(NTU)  \\\n",
       "0  2021-06-19 00:00:05 CET      1889          24.8750             100   \n",
       "1  2021-06-19 00:01:02 CET      1890          24.9375             100   \n",
       "2  2021-06-19 00:01:22 CET      1891          24.8750             100   \n",
       "3  2021-06-19 00:01:44 CET      1892          24.9375             100   \n",
       "4  2021-06-19 00:02:07 CET      1893          24.9375             100   \n",
       "\n",
       "   Dissolved Oxygen(g/ml)       PH  Ammonia(g/ml)  Nitrate(g/ml)  Population  \\\n",
       "0                   4.505  8.43365        0.45842            193          50   \n",
       "1                   6.601  8.43818        0.45842            194          50   \n",
       "2                  15.797  8.42457        0.45842            192          50   \n",
       "3                   5.046  8.43365        0.45842            193          50   \n",
       "4                  38.407  8.40641        0.45842            192          50   \n",
       "\n",
       "   Fish_Length(cm)  Fish_Weight(g)  \n",
       "0             7.11            2.91  \n",
       "1             7.11            2.91  \n",
       "2             7.11            2.91  \n",
       "3             7.11            2.91  \n",
       "4             7.11            2.91  "
      ]
     },
     "execution_count": 3,
     "metadata": {},
     "output_type": "execute_result"
    }
   ],
   "source": [
    "df.head()"
   ]
  },
  {
   "cell_type": "code",
   "execution_count": 4,
   "metadata": {
    "colab": {
     "base_uri": "https://localhost:8080/",
     "height": 461
    },
    "id": "5KWPkf06idda",
    "outputId": "9f26c56f-5162-4ad4-c657-7eb7ba440935"
   },
   "outputs": [
    {
     "data": {
      "text/html": [
       "<div>\n",
       "<style scoped>\n",
       "    .dataframe tbody tr th:only-of-type {\n",
       "        vertical-align: middle;\n",
       "    }\n",
       "\n",
       "    .dataframe tbody tr th {\n",
       "        vertical-align: top;\n",
       "    }\n",
       "\n",
       "    .dataframe thead th {\n",
       "        text-align: right;\n",
       "    }\n",
       "</style>\n",
       "<table border=\"1\" class=\"dataframe\">\n",
       "  <thead>\n",
       "    <tr style=\"text-align: right;\">\n",
       "      <th></th>\n",
       "      <th>created_at</th>\n",
       "      <th>entry_id</th>\n",
       "      <th>Temperature (C)</th>\n",
       "      <th>Turbidity(NTU)</th>\n",
       "      <th>Dissolved Oxygen(g/ml)</th>\n",
       "      <th>PH</th>\n",
       "      <th>Ammonia(g/ml)</th>\n",
       "      <th>Nitrate(g/ml)</th>\n",
       "      <th>Population</th>\n",
       "      <th>Fish_Length(cm)</th>\n",
       "      <th>Fish_Weight(g)</th>\n",
       "    </tr>\n",
       "  </thead>\n",
       "  <tbody>\n",
       "    <tr>\n",
       "      <th>0</th>\n",
       "      <td>False</td>\n",
       "      <td>False</td>\n",
       "      <td>False</td>\n",
       "      <td>False</td>\n",
       "      <td>False</td>\n",
       "      <td>False</td>\n",
       "      <td>False</td>\n",
       "      <td>False</td>\n",
       "      <td>False</td>\n",
       "      <td>False</td>\n",
       "      <td>False</td>\n",
       "    </tr>\n",
       "    <tr>\n",
       "      <th>1</th>\n",
       "      <td>False</td>\n",
       "      <td>False</td>\n",
       "      <td>False</td>\n",
       "      <td>False</td>\n",
       "      <td>False</td>\n",
       "      <td>False</td>\n",
       "      <td>False</td>\n",
       "      <td>False</td>\n",
       "      <td>False</td>\n",
       "      <td>False</td>\n",
       "      <td>False</td>\n",
       "    </tr>\n",
       "    <tr>\n",
       "      <th>2</th>\n",
       "      <td>False</td>\n",
       "      <td>False</td>\n",
       "      <td>False</td>\n",
       "      <td>False</td>\n",
       "      <td>False</td>\n",
       "      <td>False</td>\n",
       "      <td>False</td>\n",
       "      <td>False</td>\n",
       "      <td>False</td>\n",
       "      <td>False</td>\n",
       "      <td>False</td>\n",
       "    </tr>\n",
       "    <tr>\n",
       "      <th>3</th>\n",
       "      <td>False</td>\n",
       "      <td>False</td>\n",
       "      <td>False</td>\n",
       "      <td>False</td>\n",
       "      <td>False</td>\n",
       "      <td>False</td>\n",
       "      <td>False</td>\n",
       "      <td>False</td>\n",
       "      <td>False</td>\n",
       "      <td>False</td>\n",
       "      <td>False</td>\n",
       "    </tr>\n",
       "    <tr>\n",
       "      <th>4</th>\n",
       "      <td>False</td>\n",
       "      <td>False</td>\n",
       "      <td>False</td>\n",
       "      <td>False</td>\n",
       "      <td>False</td>\n",
       "      <td>False</td>\n",
       "      <td>False</td>\n",
       "      <td>False</td>\n",
       "      <td>False</td>\n",
       "      <td>False</td>\n",
       "      <td>False</td>\n",
       "    </tr>\n",
       "    <tr>\n",
       "      <th>...</th>\n",
       "      <td>...</td>\n",
       "      <td>...</td>\n",
       "      <td>...</td>\n",
       "      <td>...</td>\n",
       "      <td>...</td>\n",
       "      <td>...</td>\n",
       "      <td>...</td>\n",
       "      <td>...</td>\n",
       "      <td>...</td>\n",
       "      <td>...</td>\n",
       "      <td>...</td>\n",
       "    </tr>\n",
       "    <tr>\n",
       "      <th>83121</th>\n",
       "      <td>False</td>\n",
       "      <td>False</td>\n",
       "      <td>False</td>\n",
       "      <td>False</td>\n",
       "      <td>False</td>\n",
       "      <td>False</td>\n",
       "      <td>False</td>\n",
       "      <td>False</td>\n",
       "      <td>False</td>\n",
       "      <td>False</td>\n",
       "      <td>False</td>\n",
       "    </tr>\n",
       "    <tr>\n",
       "      <th>83122</th>\n",
       "      <td>False</td>\n",
       "      <td>False</td>\n",
       "      <td>False</td>\n",
       "      <td>False</td>\n",
       "      <td>False</td>\n",
       "      <td>False</td>\n",
       "      <td>False</td>\n",
       "      <td>False</td>\n",
       "      <td>False</td>\n",
       "      <td>False</td>\n",
       "      <td>False</td>\n",
       "    </tr>\n",
       "    <tr>\n",
       "      <th>83123</th>\n",
       "      <td>False</td>\n",
       "      <td>False</td>\n",
       "      <td>False</td>\n",
       "      <td>False</td>\n",
       "      <td>False</td>\n",
       "      <td>False</td>\n",
       "      <td>False</td>\n",
       "      <td>False</td>\n",
       "      <td>False</td>\n",
       "      <td>False</td>\n",
       "      <td>False</td>\n",
       "    </tr>\n",
       "    <tr>\n",
       "      <th>83124</th>\n",
       "      <td>False</td>\n",
       "      <td>False</td>\n",
       "      <td>False</td>\n",
       "      <td>False</td>\n",
       "      <td>False</td>\n",
       "      <td>False</td>\n",
       "      <td>False</td>\n",
       "      <td>False</td>\n",
       "      <td>False</td>\n",
       "      <td>False</td>\n",
       "      <td>False</td>\n",
       "    </tr>\n",
       "    <tr>\n",
       "      <th>83125</th>\n",
       "      <td>False</td>\n",
       "      <td>False</td>\n",
       "      <td>False</td>\n",
       "      <td>False</td>\n",
       "      <td>False</td>\n",
       "      <td>False</td>\n",
       "      <td>False</td>\n",
       "      <td>False</td>\n",
       "      <td>False</td>\n",
       "      <td>False</td>\n",
       "      <td>False</td>\n",
       "    </tr>\n",
       "  </tbody>\n",
       "</table>\n",
       "<p>83126 rows × 11 columns</p>\n",
       "</div>"
      ],
      "text/plain": [
       "       created_at  entry_id  Temperature (C)  Turbidity(NTU)  \\\n",
       "0           False     False            False           False   \n",
       "1           False     False            False           False   \n",
       "2           False     False            False           False   \n",
       "3           False     False            False           False   \n",
       "4           False     False            False           False   \n",
       "...           ...       ...              ...             ...   \n",
       "83121       False     False            False           False   \n",
       "83122       False     False            False           False   \n",
       "83123       False     False            False           False   \n",
       "83124       False     False            False           False   \n",
       "83125       False     False            False           False   \n",
       "\n",
       "       Dissolved Oxygen(g/ml)     PH  Ammonia(g/ml)  Nitrate(g/ml)  \\\n",
       "0                       False  False          False          False   \n",
       "1                       False  False          False          False   \n",
       "2                       False  False          False          False   \n",
       "3                       False  False          False          False   \n",
       "4                       False  False          False          False   \n",
       "...                       ...    ...            ...            ...   \n",
       "83121                   False  False          False          False   \n",
       "83122                   False  False          False          False   \n",
       "83123                   False  False          False          False   \n",
       "83124                   False  False          False          False   \n",
       "83125                   False  False          False          False   \n",
       "\n",
       "       Population  Fish_Length(cm)  Fish_Weight(g)  \n",
       "0           False            False           False  \n",
       "1           False            False           False  \n",
       "2           False            False           False  \n",
       "3           False            False           False  \n",
       "4           False            False           False  \n",
       "...           ...              ...             ...  \n",
       "83121       False            False           False  \n",
       "83122       False            False           False  \n",
       "83123       False            False           False  \n",
       "83124       False            False           False  \n",
       "83125       False            False           False  \n",
       "\n",
       "[83126 rows x 11 columns]"
      ]
     },
     "execution_count": 4,
     "metadata": {},
     "output_type": "execute_result"
    }
   ],
   "source": [
    "df.isnull()"
   ]
  },
  {
   "cell_type": "code",
   "execution_count": 5,
   "metadata": {
    "colab": {
     "base_uri": "https://localhost:8080/"
    },
    "id": "yTknK5_wiryb",
    "outputId": "88439ab2-6e57-4018-d184-76ff3609088f"
   },
   "outputs": [
    {
     "name": "stdout",
     "output_type": "stream",
     "text": [
      "<class 'pandas.core.frame.DataFrame'>\n",
      "RangeIndex: 83126 entries, 0 to 83125\n",
      "Data columns (total 11 columns):\n",
      " #   Column                  Non-Null Count  Dtype  \n",
      "---  ------                  --------------  -----  \n",
      " 0   created_at              83126 non-null  object \n",
      " 1   entry_id                83126 non-null  int64  \n",
      " 2   Temperature (C)         83126 non-null  float64\n",
      " 3   Turbidity(NTU)          83126 non-null  int64  \n",
      " 4   Dissolved Oxygen(g/ml)  83126 non-null  float64\n",
      " 5   PH                      83126 non-null  float64\n",
      " 6   Ammonia(g/ml)           83074 non-null  float64\n",
      " 7   Nitrate(g/ml)           83126 non-null  int64  \n",
      " 8   Population              83126 non-null  int64  \n",
      " 9   Fish_Length(cm)         83124 non-null  float64\n",
      " 10  Fish_Weight(g)          83124 non-null  float64\n",
      "dtypes: float64(6), int64(4), object(1)\n",
      "memory usage: 7.0+ MB\n"
     ]
    }
   ],
   "source": [
    "df.info()"
   ]
  },
  {
   "cell_type": "markdown",
   "metadata": {
    "id": "iNe3vb0qlwO8"
   },
   "source": [
    "## Finding Noise and removing it from dataset"
   ]
  },
  {
   "cell_type": "markdown",
   "metadata": {
    "id": "1k9iuqEml-Ls"
   },
   "source": [
    "### Dealing with Null values"
   ]
  },
  {
   "cell_type": "code",
   "execution_count": 6,
   "metadata": {
    "colab": {
     "base_uri": "https://localhost:8080/"
    },
    "id": "L3CIYNQPiyFc",
    "outputId": "82d67086-740a-49a1-b205-ab8a8c93fb65"
   },
   "outputs": [
    {
     "data": {
      "text/plain": [
       "created_at                 0\n",
       "entry_id                   0\n",
       "Temperature (C)            0\n",
       "Turbidity(NTU)             0\n",
       "Dissolved Oxygen(g/ml)     0\n",
       "PH                         0\n",
       "Ammonia(g/ml)             52\n",
       "Nitrate(g/ml)              0\n",
       "Population                 0\n",
       "Fish_Length(cm)            2\n",
       "Fish_Weight(g)             2\n",
       "dtype: int64"
      ]
     },
     "execution_count": 6,
     "metadata": {},
     "output_type": "execute_result"
    }
   ],
   "source": [
    "df.isnull().sum()"
   ]
  },
  {
   "cell_type": "code",
   "execution_count": 7,
   "metadata": {
    "colab": {
     "base_uri": "https://localhost:8080/"
    },
    "id": "nw-BUmi7i8Uu",
    "outputId": "7c2d3e78-3736-4588-bb26-4e85ce139603"
   },
   "outputs": [
    {
     "name": "stdout",
     "output_type": "stream",
     "text": [
      "Count of missing values in each column before handling:\n",
      "created_at                 0\n",
      "entry_id                   0\n",
      "Temperature (C)            0\n",
      "Turbidity(NTU)             0\n",
      "Dissolved Oxygen(g/ml)     0\n",
      "PH                         0\n",
      "Ammonia(g/ml)             52\n",
      "Nitrate(g/ml)              0\n",
      "Population                 0\n",
      "Fish_Length(cm)            2\n",
      "Fish_Weight(g)             2\n",
      "dtype: int64\n",
      "\n",
      "Count of missing values in each column after handling:\n",
      "created_at                0\n",
      "entry_id                  0\n",
      "Temperature (C)           0\n",
      "Turbidity(NTU)            0\n",
      "Dissolved Oxygen(g/ml)    0\n",
      "PH                        0\n",
      "Ammonia(g/ml)             0\n",
      "Nitrate(g/ml)             0\n",
      "Population                0\n",
      "Fish_Length(cm)           0\n",
      "Fish_Weight(g)            0\n",
      "dtype: int64\n"
     ]
    }
   ],
   "source": [
    "# Check for missing values and handle them\n",
    "print(\"Count of missing values in each column before handling:\")\n",
    "print(df.isnull().sum())\n",
    "\n",
    "df = df.dropna()\n",
    "\n",
    "print(\"\\nCount of missing values in each column after handling:\")\n",
    "print(df.isnull().sum())"
   ]
  },
  {
   "cell_type": "markdown",
   "metadata": {
    "id": "FNAslUXNmEl6"
   },
   "source": [
    "### Dealing with duplicate values"
   ]
  },
  {
   "cell_type": "code",
   "execution_count": 8,
   "metadata": {
    "colab": {
     "base_uri": "https://localhost:8080/"
    },
    "id": "mGxqtnpbjIRm",
    "outputId": "3fa2f729-27f9-4c5f-ca9a-362dc0efbd91"
   },
   "outputs": [
    {
     "name": "stdout",
     "output_type": "stream",
     "text": [
      "Original DataFrame:\n",
      "                    created_at  entry_id  Temperature (C)  Turbidity(NTU)  \\\n",
      "0      2021-06-19 00:00:05 CET      1889          24.8750             100   \n",
      "1      2021-06-19 00:01:02 CET      1890          24.9375             100   \n",
      "2      2021-06-19 00:01:22 CET      1891          24.8750             100   \n",
      "3      2021-06-19 00:01:44 CET      1892          24.9375             100   \n",
      "4      2021-06-19 00:02:07 CET      1893          24.9375             100   \n",
      "...                        ...       ...              ...             ...   \n",
      "83121  2021-10-13 02:48:31 CET    247201          26.5625             100   \n",
      "83122  2021-10-13 03:17:36 CET    247273          26.5625             100   \n",
      "83123  2021-10-13 03:46:49 CET    247336          26.5000             100   \n",
      "83124  2021-10-13 04:13:23 CET    247402          26.3750             100   \n",
      "83125  2021-10-13 04:14:22 CET    247405          26.3750             100   \n",
      "\n",
      "       Dissolved Oxygen(g/ml)       PH  Ammonia(g/ml)  Nitrate(g/ml)  \\\n",
      "0                       4.505  8.43365        0.45842            193   \n",
      "1                       6.601  8.43818        0.45842            194   \n",
      "2                      15.797  8.42457        0.45842            192   \n",
      "3                       5.046  8.43365        0.45842            193   \n",
      "4                      38.407  8.40641        0.45842            192   \n",
      "...                       ...      ...            ...            ...   \n",
      "83121                   0.441  2.56412        5.91282            946   \n",
      "83122                   1.020  2.67760        4.21414            985   \n",
      "83123                   0.852  2.45063        8.18873            963   \n",
      "83124                   4.850  2.41885       10.62411            944   \n",
      "83125                   1.279  2.40524       10.07556            943   \n",
      "\n",
      "       Population  Fish_Length(cm)  Fish_Weight(g)  \n",
      "0              50             7.11            2.91  \n",
      "1              50             7.11            2.91  \n",
      "2              50             7.11            2.91  \n",
      "3              50             7.11            2.91  \n",
      "4              50             7.11            2.91  \n",
      "...           ...              ...             ...  \n",
      "83121          50            33.45          318.64  \n",
      "83122          50            33.45          318.64  \n",
      "83123          50            33.45          318.64  \n",
      "83124          50            33.45          318.64  \n",
      "83125          50            33.45          318.64  \n",
      "\n",
      "[83072 rows x 11 columns]\n",
      "\n",
      "Rows that are duplicates of a previous row:\n",
      "0        False\n",
      "1        False\n",
      "2        False\n",
      "3        False\n",
      "4        False\n",
      "         ...  \n",
      "83121    False\n",
      "83122    False\n",
      "83123    False\n",
      "83124    False\n",
      "83125    False\n",
      "Length: 83072, dtype: bool\n"
     ]
    }
   ],
   "source": [
    "# Identify duplicate values\n",
    "print(\"Original DataFrame:\")\n",
    "print(df)\n",
    "\n",
    "print(\"\\nRows that are duplicates of a previous row:\")\n",
    "print(df.duplicated())"
   ]
  },
  {
   "cell_type": "code",
   "execution_count": 9,
   "metadata": {
    "colab": {
     "base_uri": "https://localhost:8080/"
    },
    "id": "W54RXYM5jfLP",
    "outputId": "98e0f58a-afd4-4afb-9f8a-8dee15048717"
   },
   "outputs": [
    {
     "name": "stdout",
     "output_type": "stream",
     "text": [
      "\n",
      "DataFrame after dropping duplicate rows:\n",
      "                    created_at  entry_id  Temperature (C)  Turbidity(NTU)  \\\n",
      "0      2021-06-19 00:00:05 CET      1889          24.8750             100   \n",
      "1      2021-06-19 00:01:02 CET      1890          24.9375             100   \n",
      "2      2021-06-19 00:01:22 CET      1891          24.8750             100   \n",
      "3      2021-06-19 00:01:44 CET      1892          24.9375             100   \n",
      "4      2021-06-19 00:02:07 CET      1893          24.9375             100   \n",
      "...                        ...       ...              ...             ...   \n",
      "83121  2021-10-13 02:48:31 CET    247201          26.5625             100   \n",
      "83122  2021-10-13 03:17:36 CET    247273          26.5625             100   \n",
      "83123  2021-10-13 03:46:49 CET    247336          26.5000             100   \n",
      "83124  2021-10-13 04:13:23 CET    247402          26.3750             100   \n",
      "83125  2021-10-13 04:14:22 CET    247405          26.3750             100   \n",
      "\n",
      "       Dissolved Oxygen(g/ml)       PH  Ammonia(g/ml)  Nitrate(g/ml)  \\\n",
      "0                       4.505  8.43365        0.45842            193   \n",
      "1                       6.601  8.43818        0.45842            194   \n",
      "2                      15.797  8.42457        0.45842            192   \n",
      "3                       5.046  8.43365        0.45842            193   \n",
      "4                      38.407  8.40641        0.45842            192   \n",
      "...                       ...      ...            ...            ...   \n",
      "83121                   0.441  2.56412        5.91282            946   \n",
      "83122                   1.020  2.67760        4.21414            985   \n",
      "83123                   0.852  2.45063        8.18873            963   \n",
      "83124                   4.850  2.41885       10.62411            944   \n",
      "83125                   1.279  2.40524       10.07556            943   \n",
      "\n",
      "       Population  Fish_Length(cm)  Fish_Weight(g)  \n",
      "0              50             7.11            2.91  \n",
      "1              50             7.11            2.91  \n",
      "2              50             7.11            2.91  \n",
      "3              50             7.11            2.91  \n",
      "4              50             7.11            2.91  \n",
      "...           ...              ...             ...  \n",
      "83121          50            33.45          318.64  \n",
      "83122          50            33.45          318.64  \n",
      "83123          50            33.45          318.64  \n",
      "83124          50            33.45          318.64  \n",
      "83125          50            33.45          318.64  \n",
      "\n",
      "[83072 rows x 11 columns]\n"
     ]
    }
   ],
   "source": [
    "# Drop duplicate values\n",
    "df = df.drop_duplicates()\n",
    "\n",
    "print(\"\\nDataFrame after dropping duplicate rows:\")\n",
    "print(df)"
   ]
  },
  {
   "cell_type": "code",
   "execution_count": 10,
   "metadata": {
    "colab": {
     "base_uri": "https://localhost:8080/",
     "height": 417
    },
    "id": "DkpDHDRNjncu",
    "outputId": "5e4713df-4afd-4920-94aa-b19505493188"
   },
   "outputs": [
    {
     "data": {
      "text/html": [
       "<div>\n",
       "<style scoped>\n",
       "    .dataframe tbody tr th:only-of-type {\n",
       "        vertical-align: middle;\n",
       "    }\n",
       "\n",
       "    .dataframe tbody tr th {\n",
       "        vertical-align: top;\n",
       "    }\n",
       "\n",
       "    .dataframe thead th {\n",
       "        text-align: right;\n",
       "    }\n",
       "</style>\n",
       "<table border=\"1\" class=\"dataframe\">\n",
       "  <thead>\n",
       "    <tr style=\"text-align: right;\">\n",
       "      <th></th>\n",
       "      <th>created_at</th>\n",
       "      <th>entry_id</th>\n",
       "      <th>Temperature (C)</th>\n",
       "      <th>Turbidity(NTU)</th>\n",
       "      <th>Dissolved Oxygen(g/ml)</th>\n",
       "      <th>PH</th>\n",
       "      <th>Ammonia(g/ml)</th>\n",
       "      <th>Nitrate(g/ml)</th>\n",
       "      <th>Population</th>\n",
       "      <th>Fish_Length(cm)</th>\n",
       "      <th>Fish_Weight(g)</th>\n",
       "    </tr>\n",
       "  </thead>\n",
       "  <tbody>\n",
       "    <tr>\n",
       "      <th>0</th>\n",
       "      <td>2021-06-19 00:00:05 CET</td>\n",
       "      <td>1889</td>\n",
       "      <td>24.8750</td>\n",
       "      <td>100</td>\n",
       "      <td>4.505</td>\n",
       "      <td>8.43365</td>\n",
       "      <td>0.45842</td>\n",
       "      <td>193</td>\n",
       "      <td>50</td>\n",
       "      <td>7.11</td>\n",
       "      <td>2.91</td>\n",
       "    </tr>\n",
       "    <tr>\n",
       "      <th>1</th>\n",
       "      <td>2021-06-19 00:01:02 CET</td>\n",
       "      <td>1890</td>\n",
       "      <td>24.9375</td>\n",
       "      <td>100</td>\n",
       "      <td>6.601</td>\n",
       "      <td>8.43818</td>\n",
       "      <td>0.45842</td>\n",
       "      <td>194</td>\n",
       "      <td>50</td>\n",
       "      <td>7.11</td>\n",
       "      <td>2.91</td>\n",
       "    </tr>\n",
       "    <tr>\n",
       "      <th>2</th>\n",
       "      <td>2021-06-19 00:01:22 CET</td>\n",
       "      <td>1891</td>\n",
       "      <td>24.8750</td>\n",
       "      <td>100</td>\n",
       "      <td>15.797</td>\n",
       "      <td>8.42457</td>\n",
       "      <td>0.45842</td>\n",
       "      <td>192</td>\n",
       "      <td>50</td>\n",
       "      <td>7.11</td>\n",
       "      <td>2.91</td>\n",
       "    </tr>\n",
       "    <tr>\n",
       "      <th>3</th>\n",
       "      <td>2021-06-19 00:01:44 CET</td>\n",
       "      <td>1892</td>\n",
       "      <td>24.9375</td>\n",
       "      <td>100</td>\n",
       "      <td>5.046</td>\n",
       "      <td>8.43365</td>\n",
       "      <td>0.45842</td>\n",
       "      <td>193</td>\n",
       "      <td>50</td>\n",
       "      <td>7.11</td>\n",
       "      <td>2.91</td>\n",
       "    </tr>\n",
       "    <tr>\n",
       "      <th>4</th>\n",
       "      <td>2021-06-19 00:02:07 CET</td>\n",
       "      <td>1893</td>\n",
       "      <td>24.9375</td>\n",
       "      <td>100</td>\n",
       "      <td>38.407</td>\n",
       "      <td>8.40641</td>\n",
       "      <td>0.45842</td>\n",
       "      <td>192</td>\n",
       "      <td>50</td>\n",
       "      <td>7.11</td>\n",
       "      <td>2.91</td>\n",
       "    </tr>\n",
       "  </tbody>\n",
       "</table>\n",
       "</div>"
      ],
      "text/plain": [
       "                created_at  entry_id  Temperature (C)  Turbidity(NTU)  \\\n",
       "0  2021-06-19 00:00:05 CET      1889          24.8750             100   \n",
       "1  2021-06-19 00:01:02 CET      1890          24.9375             100   \n",
       "2  2021-06-19 00:01:22 CET      1891          24.8750             100   \n",
       "3  2021-06-19 00:01:44 CET      1892          24.9375             100   \n",
       "4  2021-06-19 00:02:07 CET      1893          24.9375             100   \n",
       "\n",
       "   Dissolved Oxygen(g/ml)       PH  Ammonia(g/ml)  Nitrate(g/ml)  Population  \\\n",
       "0                   4.505  8.43365        0.45842            193          50   \n",
       "1                   6.601  8.43818        0.45842            194          50   \n",
       "2                  15.797  8.42457        0.45842            192          50   \n",
       "3                   5.046  8.43365        0.45842            193          50   \n",
       "4                  38.407  8.40641        0.45842            192          50   \n",
       "\n",
       "   Fish_Length(cm)  Fish_Weight(g)  \n",
       "0             7.11            2.91  \n",
       "1             7.11            2.91  \n",
       "2             7.11            2.91  \n",
       "3             7.11            2.91  \n",
       "4             7.11            2.91  "
      ]
     },
     "execution_count": 10,
     "metadata": {},
     "output_type": "execute_result"
    }
   ],
   "source": [
    "df.head()"
   ]
  },
  {
   "cell_type": "markdown",
   "metadata": {
    "id": "RddSK0oWmNkH"
   },
   "source": [
    "## Note: One can observe that form original dataset there are 83126 values from which we have removed null and duplicacy and now we have about 83072 values"
   ]
  },
  {
   "cell_type": "code",
   "execution_count": 11,
   "metadata": {
    "colab": {
     "base_uri": "https://localhost:8080/"
    },
    "id": "XdHqZT5Hjtjj",
    "outputId": "a9766e69-0efb-46ef-de36-4b083db76102"
   },
   "outputs": [
    {
     "name": "stdout",
     "output_type": "stream",
     "text": [
      "created_at                 object\n",
      "entry_id                    int64\n",
      "Temperature (C)           float64\n",
      "Turbidity(NTU)              int64\n",
      "Dissolved Oxygen(g/ml)    float64\n",
      "PH                        float64\n",
      "Ammonia(g/ml)             float64\n",
      "Nitrate(g/ml)               int64\n",
      "Population                  int64\n",
      "Fish_Length(cm)           float64\n",
      "Fish_Weight(g)            float64\n",
      "dtype: object\n"
     ]
    }
   ],
   "source": [
    "print(df.dtypes)"
   ]
  },
  {
   "cell_type": "code",
   "execution_count": 12,
   "metadata": {
    "colab": {
     "base_uri": "https://localhost:8080/"
    },
    "id": "aDs9XC-TkYGg",
    "outputId": "ac4bbc7e-e36c-4814-c2ed-878e790d6a5b"
   },
   "outputs": [
    {
     "name": "stdout",
     "output_type": "stream",
     "text": [
      "            entry_id  Temperature (C)  Turbidity(NTU)  Dissolved Oxygen(g/ml)  \\\n",
      "count   83072.000000     83072.000000    83072.000000            83072.000000   \n",
      "mean    84048.115466        24.573335       87.482028               12.393208   \n",
      "std     53581.214847         0.861756       25.865811               12.520521   \n",
      "min      1889.000000      -127.000000        1.000000                0.007000   \n",
      "25%     24898.750000        24.125000       91.000000                3.440000   \n",
      "50%    103611.500000        24.562500      100.000000                7.133000   \n",
      "75%    131088.250000        24.937500      100.000000               15.836750   \n",
      "max    247405.000000        27.750000      100.000000               41.046000   \n",
      "\n",
      "                PH  Ammonia(g/ml)  Nitrate(g/ml)  Population  Fish_Length(cm)  \\\n",
      "count  83072.00000   8.307200e+04   83072.000000     83072.0     83072.000000   \n",
      "mean       7.51818   2.030866e+08     458.500277        50.0        16.417063   \n",
      "std        0.53491   7.866325e+09     338.325468         0.0         5.272846   \n",
      "min       -0.58627   6.770000e-03      45.000000        50.0         7.110000   \n",
      "25%        7.15352   4.584200e-01     146.000000        50.0        11.790000   \n",
      "50%        7.35779   6.116600e-01     347.000000        50.0        18.080000   \n",
      "75%        7.83898   1.558803e+01     823.000000        50.0        21.000000   \n",
      "max        8.55167   4.270000e+11    1936.000000        50.0        33.450000   \n",
      "\n",
      "       Fish_Weight(g)  \n",
      "count    83072.000000  \n",
      "mean        44.584918  \n",
      "std         33.218724  \n",
      "min          2.910000  \n",
      "25%         14.190000  \n",
      "50%         54.700000  \n",
      "75%         67.520000  \n",
      "max        318.640000  \n"
     ]
    }
   ],
   "source": [
    "print(df.describe())"
   ]
  },
  {
   "cell_type": "markdown",
   "metadata": {
    "id": "S6A-xFEnmscf"
   },
   "source": [
    "## Removing the irrelavnt columns from dataset there are two columns which are not affecting the target values so we are removing \"created_at\" and \"entry_id\" from original data."
   ]
  },
  {
   "cell_type": "code",
   "execution_count": 13,
   "metadata": {
    "id": "fkO_PDpllNzF"
   },
   "outputs": [],
   "source": [
    "df = df.drop(['created_at', 'entry_id'], axis=1)"
   ]
  },
  {
   "cell_type": "code",
   "execution_count": 14,
   "metadata": {
    "colab": {
     "base_uri": "https://localhost:8080/",
     "height": 441
    },
    "id": "kzLD9FX5ksIM",
    "outputId": "c7d77519-66be-4cf9-a188-ed0ca9a530ee",
    "scrolled": true
   },
   "outputs": [
    {
     "data": {
      "text/html": [
       "<div>\n",
       "<style scoped>\n",
       "    .dataframe tbody tr th:only-of-type {\n",
       "        vertical-align: middle;\n",
       "    }\n",
       "\n",
       "    .dataframe tbody tr th {\n",
       "        vertical-align: top;\n",
       "    }\n",
       "\n",
       "    .dataframe thead th {\n",
       "        text-align: right;\n",
       "    }\n",
       "</style>\n",
       "<table border=\"1\" class=\"dataframe\">\n",
       "  <thead>\n",
       "    <tr style=\"text-align: right;\">\n",
       "      <th></th>\n",
       "      <th>Temperature (C)</th>\n",
       "      <th>Turbidity(NTU)</th>\n",
       "      <th>Dissolved Oxygen(g/ml)</th>\n",
       "      <th>PH</th>\n",
       "      <th>Ammonia(g/ml)</th>\n",
       "      <th>Nitrate(g/ml)</th>\n",
       "      <th>Population</th>\n",
       "      <th>Fish_Length(cm)</th>\n",
       "      <th>Fish_Weight(g)</th>\n",
       "    </tr>\n",
       "  </thead>\n",
       "  <tbody>\n",
       "    <tr>\n",
       "      <th>0</th>\n",
       "      <td>24.8750</td>\n",
       "      <td>100</td>\n",
       "      <td>4.505</td>\n",
       "      <td>8.43365</td>\n",
       "      <td>0.45842</td>\n",
       "      <td>193</td>\n",
       "      <td>50</td>\n",
       "      <td>7.11</td>\n",
       "      <td>2.91</td>\n",
       "    </tr>\n",
       "    <tr>\n",
       "      <th>1</th>\n",
       "      <td>24.9375</td>\n",
       "      <td>100</td>\n",
       "      <td>6.601</td>\n",
       "      <td>8.43818</td>\n",
       "      <td>0.45842</td>\n",
       "      <td>194</td>\n",
       "      <td>50</td>\n",
       "      <td>7.11</td>\n",
       "      <td>2.91</td>\n",
       "    </tr>\n",
       "    <tr>\n",
       "      <th>2</th>\n",
       "      <td>24.8750</td>\n",
       "      <td>100</td>\n",
       "      <td>15.797</td>\n",
       "      <td>8.42457</td>\n",
       "      <td>0.45842</td>\n",
       "      <td>192</td>\n",
       "      <td>50</td>\n",
       "      <td>7.11</td>\n",
       "      <td>2.91</td>\n",
       "    </tr>\n",
       "    <tr>\n",
       "      <th>3</th>\n",
       "      <td>24.9375</td>\n",
       "      <td>100</td>\n",
       "      <td>5.046</td>\n",
       "      <td>8.43365</td>\n",
       "      <td>0.45842</td>\n",
       "      <td>193</td>\n",
       "      <td>50</td>\n",
       "      <td>7.11</td>\n",
       "      <td>2.91</td>\n",
       "    </tr>\n",
       "    <tr>\n",
       "      <th>4</th>\n",
       "      <td>24.9375</td>\n",
       "      <td>100</td>\n",
       "      <td>38.407</td>\n",
       "      <td>8.40641</td>\n",
       "      <td>0.45842</td>\n",
       "      <td>192</td>\n",
       "      <td>50</td>\n",
       "      <td>7.11</td>\n",
       "      <td>2.91</td>\n",
       "    </tr>\n",
       "    <tr>\n",
       "      <th>...</th>\n",
       "      <td>...</td>\n",
       "      <td>...</td>\n",
       "      <td>...</td>\n",
       "      <td>...</td>\n",
       "      <td>...</td>\n",
       "      <td>...</td>\n",
       "      <td>...</td>\n",
       "      <td>...</td>\n",
       "      <td>...</td>\n",
       "    </tr>\n",
       "    <tr>\n",
       "      <th>83121</th>\n",
       "      <td>26.5625</td>\n",
       "      <td>100</td>\n",
       "      <td>0.441</td>\n",
       "      <td>2.56412</td>\n",
       "      <td>5.91282</td>\n",
       "      <td>946</td>\n",
       "      <td>50</td>\n",
       "      <td>33.45</td>\n",
       "      <td>318.64</td>\n",
       "    </tr>\n",
       "    <tr>\n",
       "      <th>83122</th>\n",
       "      <td>26.5625</td>\n",
       "      <td>100</td>\n",
       "      <td>1.020</td>\n",
       "      <td>2.67760</td>\n",
       "      <td>4.21414</td>\n",
       "      <td>985</td>\n",
       "      <td>50</td>\n",
       "      <td>33.45</td>\n",
       "      <td>318.64</td>\n",
       "    </tr>\n",
       "    <tr>\n",
       "      <th>83123</th>\n",
       "      <td>26.5000</td>\n",
       "      <td>100</td>\n",
       "      <td>0.852</td>\n",
       "      <td>2.45063</td>\n",
       "      <td>8.18873</td>\n",
       "      <td>963</td>\n",
       "      <td>50</td>\n",
       "      <td>33.45</td>\n",
       "      <td>318.64</td>\n",
       "    </tr>\n",
       "    <tr>\n",
       "      <th>83124</th>\n",
       "      <td>26.3750</td>\n",
       "      <td>100</td>\n",
       "      <td>4.850</td>\n",
       "      <td>2.41885</td>\n",
       "      <td>10.62411</td>\n",
       "      <td>944</td>\n",
       "      <td>50</td>\n",
       "      <td>33.45</td>\n",
       "      <td>318.64</td>\n",
       "    </tr>\n",
       "    <tr>\n",
       "      <th>83125</th>\n",
       "      <td>26.3750</td>\n",
       "      <td>100</td>\n",
       "      <td>1.279</td>\n",
       "      <td>2.40524</td>\n",
       "      <td>10.07556</td>\n",
       "      <td>943</td>\n",
       "      <td>50</td>\n",
       "      <td>33.45</td>\n",
       "      <td>318.64</td>\n",
       "    </tr>\n",
       "  </tbody>\n",
       "</table>\n",
       "<p>83072 rows × 9 columns</p>\n",
       "</div>"
      ],
      "text/plain": [
       "       Temperature (C)  Turbidity(NTU)  Dissolved Oxygen(g/ml)       PH  \\\n",
       "0              24.8750             100                   4.505  8.43365   \n",
       "1              24.9375             100                   6.601  8.43818   \n",
       "2              24.8750             100                  15.797  8.42457   \n",
       "3              24.9375             100                   5.046  8.43365   \n",
       "4              24.9375             100                  38.407  8.40641   \n",
       "...                ...             ...                     ...      ...   \n",
       "83121          26.5625             100                   0.441  2.56412   \n",
       "83122          26.5625             100                   1.020  2.67760   \n",
       "83123          26.5000             100                   0.852  2.45063   \n",
       "83124          26.3750             100                   4.850  2.41885   \n",
       "83125          26.3750             100                   1.279  2.40524   \n",
       "\n",
       "       Ammonia(g/ml)  Nitrate(g/ml)  Population  Fish_Length(cm)  \\\n",
       "0            0.45842            193          50             7.11   \n",
       "1            0.45842            194          50             7.11   \n",
       "2            0.45842            192          50             7.11   \n",
       "3            0.45842            193          50             7.11   \n",
       "4            0.45842            192          50             7.11   \n",
       "...              ...            ...         ...              ...   \n",
       "83121        5.91282            946          50            33.45   \n",
       "83122        4.21414            985          50            33.45   \n",
       "83123        8.18873            963          50            33.45   \n",
       "83124       10.62411            944          50            33.45   \n",
       "83125       10.07556            943          50            33.45   \n",
       "\n",
       "       Fish_Weight(g)  \n",
       "0                2.91  \n",
       "1                2.91  \n",
       "2                2.91  \n",
       "3                2.91  \n",
       "4                2.91  \n",
       "...               ...  \n",
       "83121          318.64  \n",
       "83122          318.64  \n",
       "83123          318.64  \n",
       "83124          318.64  \n",
       "83125          318.64  \n",
       "\n",
       "[83072 rows x 9 columns]"
      ]
     },
     "execution_count": 14,
     "metadata": {},
     "output_type": "execute_result"
    }
   ],
   "source": [
    "df"
   ]
  },
  {
   "cell_type": "markdown",
   "metadata": {},
   "source": [
    "# Assignment_2\n",
    "# Performing EDA operations on dataset (After removing the noise in it!)"
   ]
  },
  {
   "cell_type": "markdown",
   "metadata": {},
   "source": [
    "### Showing dataset "
   ]
  },
  {
   "cell_type": "code",
   "execution_count": 15,
   "metadata": {},
   "outputs": [
    {
     "data": {
      "text/html": [
       "<div>\n",
       "<style scoped>\n",
       "    .dataframe tbody tr th:only-of-type {\n",
       "        vertical-align: middle;\n",
       "    }\n",
       "\n",
       "    .dataframe tbody tr th {\n",
       "        vertical-align: top;\n",
       "    }\n",
       "\n",
       "    .dataframe thead th {\n",
       "        text-align: right;\n",
       "    }\n",
       "</style>\n",
       "<table border=\"1\" class=\"dataframe\">\n",
       "  <thead>\n",
       "    <tr style=\"text-align: right;\">\n",
       "      <th></th>\n",
       "      <th>Temperature (C)</th>\n",
       "      <th>Turbidity(NTU)</th>\n",
       "      <th>Dissolved Oxygen(g/ml)</th>\n",
       "      <th>PH</th>\n",
       "      <th>Ammonia(g/ml)</th>\n",
       "      <th>Nitrate(g/ml)</th>\n",
       "      <th>Population</th>\n",
       "      <th>Fish_Length(cm)</th>\n",
       "      <th>Fish_Weight(g)</th>\n",
       "    </tr>\n",
       "  </thead>\n",
       "  <tbody>\n",
       "    <tr>\n",
       "      <th>0</th>\n",
       "      <td>24.8750</td>\n",
       "      <td>100</td>\n",
       "      <td>4.505</td>\n",
       "      <td>8.43365</td>\n",
       "      <td>0.45842</td>\n",
       "      <td>193</td>\n",
       "      <td>50</td>\n",
       "      <td>7.11</td>\n",
       "      <td>2.91</td>\n",
       "    </tr>\n",
       "    <tr>\n",
       "      <th>1</th>\n",
       "      <td>24.9375</td>\n",
       "      <td>100</td>\n",
       "      <td>6.601</td>\n",
       "      <td>8.43818</td>\n",
       "      <td>0.45842</td>\n",
       "      <td>194</td>\n",
       "      <td>50</td>\n",
       "      <td>7.11</td>\n",
       "      <td>2.91</td>\n",
       "    </tr>\n",
       "    <tr>\n",
       "      <th>2</th>\n",
       "      <td>24.8750</td>\n",
       "      <td>100</td>\n",
       "      <td>15.797</td>\n",
       "      <td>8.42457</td>\n",
       "      <td>0.45842</td>\n",
       "      <td>192</td>\n",
       "      <td>50</td>\n",
       "      <td>7.11</td>\n",
       "      <td>2.91</td>\n",
       "    </tr>\n",
       "    <tr>\n",
       "      <th>3</th>\n",
       "      <td>24.9375</td>\n",
       "      <td>100</td>\n",
       "      <td>5.046</td>\n",
       "      <td>8.43365</td>\n",
       "      <td>0.45842</td>\n",
       "      <td>193</td>\n",
       "      <td>50</td>\n",
       "      <td>7.11</td>\n",
       "      <td>2.91</td>\n",
       "    </tr>\n",
       "    <tr>\n",
       "      <th>4</th>\n",
       "      <td>24.9375</td>\n",
       "      <td>100</td>\n",
       "      <td>38.407</td>\n",
       "      <td>8.40641</td>\n",
       "      <td>0.45842</td>\n",
       "      <td>192</td>\n",
       "      <td>50</td>\n",
       "      <td>7.11</td>\n",
       "      <td>2.91</td>\n",
       "    </tr>\n",
       "    <tr>\n",
       "      <th>5</th>\n",
       "      <td>24.9375</td>\n",
       "      <td>100</td>\n",
       "      <td>3.862</td>\n",
       "      <td>8.42003</td>\n",
       "      <td>0.45842</td>\n",
       "      <td>193</td>\n",
       "      <td>50</td>\n",
       "      <td>7.11</td>\n",
       "      <td>2.91</td>\n",
       "    </tr>\n",
       "    <tr>\n",
       "      <th>6</th>\n",
       "      <td>24.8750</td>\n",
       "      <td>100</td>\n",
       "      <td>2.831</td>\n",
       "      <td>8.43818</td>\n",
       "      <td>0.45842</td>\n",
       "      <td>194</td>\n",
       "      <td>50</td>\n",
       "      <td>7.11</td>\n",
       "      <td>2.91</td>\n",
       "    </tr>\n",
       "    <tr>\n",
       "      <th>7</th>\n",
       "      <td>24.9375</td>\n",
       "      <td>100</td>\n",
       "      <td>5.012</td>\n",
       "      <td>8.42911</td>\n",
       "      <td>0.45842</td>\n",
       "      <td>193</td>\n",
       "      <td>50</td>\n",
       "      <td>7.11</td>\n",
       "      <td>2.91</td>\n",
       "    </tr>\n",
       "    <tr>\n",
       "      <th>8</th>\n",
       "      <td>24.9375</td>\n",
       "      <td>100</td>\n",
       "      <td>2.916</td>\n",
       "      <td>8.42911</td>\n",
       "      <td>0.45842</td>\n",
       "      <td>192</td>\n",
       "      <td>50</td>\n",
       "      <td>7.11</td>\n",
       "      <td>2.91</td>\n",
       "    </tr>\n",
       "    <tr>\n",
       "      <th>9</th>\n",
       "      <td>24.8750</td>\n",
       "      <td>100</td>\n",
       "      <td>17.005</td>\n",
       "      <td>8.43365</td>\n",
       "      <td>0.45842</td>\n",
       "      <td>192</td>\n",
       "      <td>50</td>\n",
       "      <td>7.11</td>\n",
       "      <td>2.91</td>\n",
       "    </tr>\n",
       "    <tr>\n",
       "      <th>10</th>\n",
       "      <td>24.8750</td>\n",
       "      <td>100</td>\n",
       "      <td>6.964</td>\n",
       "      <td>8.48358</td>\n",
       "      <td>0.45842</td>\n",
       "      <td>191</td>\n",
       "      <td>50</td>\n",
       "      <td>7.11</td>\n",
       "      <td>2.91</td>\n",
       "    </tr>\n",
       "    <tr>\n",
       "      <th>11</th>\n",
       "      <td>24.9375</td>\n",
       "      <td>100</td>\n",
       "      <td>3.465</td>\n",
       "      <td>8.42911</td>\n",
       "      <td>0.45842</td>\n",
       "      <td>187</td>\n",
       "      <td>50</td>\n",
       "      <td>7.11</td>\n",
       "      <td>2.91</td>\n",
       "    </tr>\n",
       "    <tr>\n",
       "      <th>12</th>\n",
       "      <td>24.9375</td>\n",
       "      <td>100</td>\n",
       "      <td>4.319</td>\n",
       "      <td>8.42911</td>\n",
       "      <td>0.45842</td>\n",
       "      <td>191</td>\n",
       "      <td>50</td>\n",
       "      <td>7.11</td>\n",
       "      <td>2.91</td>\n",
       "    </tr>\n",
       "    <tr>\n",
       "      <th>13</th>\n",
       "      <td>24.8750</td>\n",
       "      <td>100</td>\n",
       "      <td>24.266</td>\n",
       "      <td>8.43365</td>\n",
       "      <td>0.45842</td>\n",
       "      <td>190</td>\n",
       "      <td>50</td>\n",
       "      <td>7.11</td>\n",
       "      <td>2.91</td>\n",
       "    </tr>\n",
       "    <tr>\n",
       "      <th>14</th>\n",
       "      <td>24.9375</td>\n",
       "      <td>100</td>\n",
       "      <td>25.204</td>\n",
       "      <td>8.42911</td>\n",
       "      <td>0.45842</td>\n",
       "      <td>188</td>\n",
       "      <td>50</td>\n",
       "      <td>7.11</td>\n",
       "      <td>2.91</td>\n",
       "    </tr>\n",
       "  </tbody>\n",
       "</table>\n",
       "</div>"
      ],
      "text/plain": [
       "    Temperature (C)  Turbidity(NTU)  Dissolved Oxygen(g/ml)       PH  \\\n",
       "0           24.8750             100                   4.505  8.43365   \n",
       "1           24.9375             100                   6.601  8.43818   \n",
       "2           24.8750             100                  15.797  8.42457   \n",
       "3           24.9375             100                   5.046  8.43365   \n",
       "4           24.9375             100                  38.407  8.40641   \n",
       "5           24.9375             100                   3.862  8.42003   \n",
       "6           24.8750             100                   2.831  8.43818   \n",
       "7           24.9375             100                   5.012  8.42911   \n",
       "8           24.9375             100                   2.916  8.42911   \n",
       "9           24.8750             100                  17.005  8.43365   \n",
       "10          24.8750             100                   6.964  8.48358   \n",
       "11          24.9375             100                   3.465  8.42911   \n",
       "12          24.9375             100                   4.319  8.42911   \n",
       "13          24.8750             100                  24.266  8.43365   \n",
       "14          24.9375             100                  25.204  8.42911   \n",
       "\n",
       "    Ammonia(g/ml)  Nitrate(g/ml)  Population  Fish_Length(cm)  Fish_Weight(g)  \n",
       "0         0.45842            193          50             7.11            2.91  \n",
       "1         0.45842            194          50             7.11            2.91  \n",
       "2         0.45842            192          50             7.11            2.91  \n",
       "3         0.45842            193          50             7.11            2.91  \n",
       "4         0.45842            192          50             7.11            2.91  \n",
       "5         0.45842            193          50             7.11            2.91  \n",
       "6         0.45842            194          50             7.11            2.91  \n",
       "7         0.45842            193          50             7.11            2.91  \n",
       "8         0.45842            192          50             7.11            2.91  \n",
       "9         0.45842            192          50             7.11            2.91  \n",
       "10        0.45842            191          50             7.11            2.91  \n",
       "11        0.45842            187          50             7.11            2.91  \n",
       "12        0.45842            191          50             7.11            2.91  \n",
       "13        0.45842            190          50             7.11            2.91  \n",
       "14        0.45842            188          50             7.11            2.91  "
      ]
     },
     "execution_count": 15,
     "metadata": {},
     "output_type": "execute_result"
    }
   ],
   "source": [
    "\n",
    "df.head(15)"
   ]
  },
  {
   "cell_type": "markdown",
   "metadata": {},
   "source": [
    "### Describing the dataset"
   ]
  },
  {
   "cell_type": "code",
   "execution_count": 16,
   "metadata": {
    "scrolled": true
   },
   "outputs": [
    {
     "data": {
      "text/html": [
       "<div>\n",
       "<style scoped>\n",
       "    .dataframe tbody tr th:only-of-type {\n",
       "        vertical-align: middle;\n",
       "    }\n",
       "\n",
       "    .dataframe tbody tr th {\n",
       "        vertical-align: top;\n",
       "    }\n",
       "\n",
       "    .dataframe thead th {\n",
       "        text-align: right;\n",
       "    }\n",
       "</style>\n",
       "<table border=\"1\" class=\"dataframe\">\n",
       "  <thead>\n",
       "    <tr style=\"text-align: right;\">\n",
       "      <th></th>\n",
       "      <th>Temperature (C)</th>\n",
       "      <th>Turbidity(NTU)</th>\n",
       "      <th>Dissolved Oxygen(g/ml)</th>\n",
       "      <th>PH</th>\n",
       "      <th>Ammonia(g/ml)</th>\n",
       "      <th>Nitrate(g/ml)</th>\n",
       "      <th>Population</th>\n",
       "      <th>Fish_Length(cm)</th>\n",
       "      <th>Fish_Weight(g)</th>\n",
       "    </tr>\n",
       "  </thead>\n",
       "  <tbody>\n",
       "    <tr>\n",
       "      <th>count</th>\n",
       "      <td>83072.000000</td>\n",
       "      <td>83072.000000</td>\n",
       "      <td>83072.000000</td>\n",
       "      <td>83072.00000</td>\n",
       "      <td>8.307200e+04</td>\n",
       "      <td>83072.000000</td>\n",
       "      <td>83072.0</td>\n",
       "      <td>83072.000000</td>\n",
       "      <td>83072.000000</td>\n",
       "    </tr>\n",
       "    <tr>\n",
       "      <th>mean</th>\n",
       "      <td>24.573335</td>\n",
       "      <td>87.482028</td>\n",
       "      <td>12.393208</td>\n",
       "      <td>7.51818</td>\n",
       "      <td>2.030866e+08</td>\n",
       "      <td>458.500277</td>\n",
       "      <td>50.0</td>\n",
       "      <td>16.417063</td>\n",
       "      <td>44.584918</td>\n",
       "    </tr>\n",
       "    <tr>\n",
       "      <th>std</th>\n",
       "      <td>0.861756</td>\n",
       "      <td>25.865811</td>\n",
       "      <td>12.520521</td>\n",
       "      <td>0.53491</td>\n",
       "      <td>7.866325e+09</td>\n",
       "      <td>338.325468</td>\n",
       "      <td>0.0</td>\n",
       "      <td>5.272846</td>\n",
       "      <td>33.218724</td>\n",
       "    </tr>\n",
       "    <tr>\n",
       "      <th>min</th>\n",
       "      <td>-127.000000</td>\n",
       "      <td>1.000000</td>\n",
       "      <td>0.007000</td>\n",
       "      <td>-0.58627</td>\n",
       "      <td>6.770000e-03</td>\n",
       "      <td>45.000000</td>\n",
       "      <td>50.0</td>\n",
       "      <td>7.110000</td>\n",
       "      <td>2.910000</td>\n",
       "    </tr>\n",
       "    <tr>\n",
       "      <th>25%</th>\n",
       "      <td>24.125000</td>\n",
       "      <td>91.000000</td>\n",
       "      <td>3.440000</td>\n",
       "      <td>7.15352</td>\n",
       "      <td>4.584200e-01</td>\n",
       "      <td>146.000000</td>\n",
       "      <td>50.0</td>\n",
       "      <td>11.790000</td>\n",
       "      <td>14.190000</td>\n",
       "    </tr>\n",
       "    <tr>\n",
       "      <th>50%</th>\n",
       "      <td>24.562500</td>\n",
       "      <td>100.000000</td>\n",
       "      <td>7.133000</td>\n",
       "      <td>7.35779</td>\n",
       "      <td>6.116600e-01</td>\n",
       "      <td>347.000000</td>\n",
       "      <td>50.0</td>\n",
       "      <td>18.080000</td>\n",
       "      <td>54.700000</td>\n",
       "    </tr>\n",
       "    <tr>\n",
       "      <th>75%</th>\n",
       "      <td>24.937500</td>\n",
       "      <td>100.000000</td>\n",
       "      <td>15.836750</td>\n",
       "      <td>7.83898</td>\n",
       "      <td>1.558803e+01</td>\n",
       "      <td>823.000000</td>\n",
       "      <td>50.0</td>\n",
       "      <td>21.000000</td>\n",
       "      <td>67.520000</td>\n",
       "    </tr>\n",
       "    <tr>\n",
       "      <th>max</th>\n",
       "      <td>27.750000</td>\n",
       "      <td>100.000000</td>\n",
       "      <td>41.046000</td>\n",
       "      <td>8.55167</td>\n",
       "      <td>4.270000e+11</td>\n",
       "      <td>1936.000000</td>\n",
       "      <td>50.0</td>\n",
       "      <td>33.450000</td>\n",
       "      <td>318.640000</td>\n",
       "    </tr>\n",
       "  </tbody>\n",
       "</table>\n",
       "</div>"
      ],
      "text/plain": [
       "       Temperature (C)  Turbidity(NTU)  Dissolved Oxygen(g/ml)           PH  \\\n",
       "count     83072.000000    83072.000000            83072.000000  83072.00000   \n",
       "mean         24.573335       87.482028               12.393208      7.51818   \n",
       "std           0.861756       25.865811               12.520521      0.53491   \n",
       "min        -127.000000        1.000000                0.007000     -0.58627   \n",
       "25%          24.125000       91.000000                3.440000      7.15352   \n",
       "50%          24.562500      100.000000                7.133000      7.35779   \n",
       "75%          24.937500      100.000000               15.836750      7.83898   \n",
       "max          27.750000      100.000000               41.046000      8.55167   \n",
       "\n",
       "       Ammonia(g/ml)  Nitrate(g/ml)  Population  Fish_Length(cm)  \\\n",
       "count   8.307200e+04   83072.000000     83072.0     83072.000000   \n",
       "mean    2.030866e+08     458.500277        50.0        16.417063   \n",
       "std     7.866325e+09     338.325468         0.0         5.272846   \n",
       "min     6.770000e-03      45.000000        50.0         7.110000   \n",
       "25%     4.584200e-01     146.000000        50.0        11.790000   \n",
       "50%     6.116600e-01     347.000000        50.0        18.080000   \n",
       "75%     1.558803e+01     823.000000        50.0        21.000000   \n",
       "max     4.270000e+11    1936.000000        50.0        33.450000   \n",
       "\n",
       "       Fish_Weight(g)  \n",
       "count    83072.000000  \n",
       "mean        44.584918  \n",
       "std         33.218724  \n",
       "min          2.910000  \n",
       "25%         14.190000  \n",
       "50%         54.700000  \n",
       "75%         67.520000  \n",
       "max        318.640000  "
      ]
     },
     "execution_count": 16,
     "metadata": {},
     "output_type": "execute_result"
    }
   ],
   "source": [
    "df.describe()"
   ]
  },
  {
   "cell_type": "markdown",
   "metadata": {},
   "source": [
    "### Datatypes of each column"
   ]
  },
  {
   "cell_type": "code",
   "execution_count": 30,
   "metadata": {},
   "outputs": [
    {
     "name": "stdout",
     "output_type": "stream",
     "text": [
      "Temperature (C)           float64\n",
      "Turbidity(NTU)              int64\n",
      "Dissolved Oxygen(g/ml)    float64\n",
      "PH                        float64\n",
      "Ammonia(g/ml)             float64\n",
      "Nitrate(g/ml)               int64\n",
      "Population                  int64\n",
      "Fish_Length(cm)           float64\n",
      "Fish_Weight(g)            float64\n",
      "dtype: object\n"
     ]
    }
   ],
   "source": [
    "print(df.dtypes)"
   ]
  },
  {
   "cell_type": "markdown",
   "metadata": {},
   "source": [
    "## Frequency Table"
   ]
  },
  {
   "cell_type": "markdown",
   "metadata": {},
   "source": [
    "### Frequency table for Temperature"
   ]
  },
  {
   "cell_type": "code",
   "execution_count": 18,
   "metadata": {},
   "outputs": [
    {
     "name": "stdout",
     "output_type": "stream",
     "text": [
      "24.875: 3262||24.9375: 2679||24.8125: 3098||24.75: 3118||24.6875: 3917||24.625: 4234||24.5625: 3460||24.5: 3188||24.4375: 3455||24.375: 3565||24.3125: 2912||25.0: 1922||25.0625: 2487||25.125: 2125||25.1875: 1616||25.3125: 792||25.25: 1065||25.375: 642||25.4375: 621||25.5: 887||25.5625: 849||25.625: 831||25.6875: 432||25.75: 372||25.8125: 380||25.875: 604||25.9375: 355||26.0: 275||26.0625: 361||26.125: 314||26.1875: 366||26.25: 373||26.3125: 426||26.375: 394||26.4375: 240||26.5: 126||26.5625: 124||26.625: 135||26.6875: 208||26.75: 34||26.8125: 19||24.25: 2049||24.1875: 2069||24.125: 2360||24.0625: 2363||24.0: 2101||23.9375: 1747||23.875: 1685||23.8125: 1888||23.75: 1998||23.6875: 1697||23.625: 1554||23.5625: 1379||23.5: 889||23.4375: 492||23.375: 459||23.3125: 459||23.1875: 429||23.125: 459||23.0: 2||23.25: 333||23.0625: 288||-127.0: 1||27.75: 1||27.6875: 14||27.625: 1||27.5625: 6||27.4375: 4||27.5: 1||27.375: 5||27.3125: 1||27.25: 5||27.1875: 5||27.125: 4||27.0625: 23||27.0: 14||26.9375: 14||26.875: 10||"
     ]
    }
   ],
   "source": [
    "from collections import Counter\n",
    "# Assuming 'category' is the column you want to calculate the frequency for\n",
    "Temperature_counts = Counter(df['Temperature (C)'])\n",
    "\n",
    "# Print the frequency table\n",
    "for category, count in Temperature_counts.items():\n",
    "    print(f'{category}: {count}', end='||')"
   ]
  },
  {
   "cell_type": "code",
   "execution_count": 19,
   "metadata": {},
   "outputs": [
    {
     "name": "stdout",
     "output_type": "stream",
     "text": [
      "24.625: 4234||24.6875: 3917||24.375: 3565||24.5625: 3460||24.4375: 3455||24.875: 3262||24.5: 3188||24.75: 3118||24.8125: 3098||24.3125: 2912||24.9375: 2679||25.0625: 2487||24.0625: 2363||24.125: 2360||25.125: 2125||24.0: 2101||24.1875: 2069||24.25: 2049||23.75: 1998||25.0: 1922||23.8125: 1888||23.9375: 1747||23.6875: 1697||23.875: 1685||25.1875: 1616||23.625: 1554||23.5625: 1379||25.25: 1065||23.5: 889||25.5: 887||25.5625: 849||25.625: 831||25.3125: 792||25.375: 642||25.4375: 621||25.875: 604||23.4375: 492||23.375: 459||23.3125: 459||23.125: 459||25.6875: 432||23.1875: 429||26.3125: 426||26.375: 394||25.8125: 380||26.25: 373||25.75: 372||26.1875: 366||26.0625: 361||25.9375: 355||23.25: 333||26.125: 314||23.0625: 288||26.0: 275||26.4375: 240||26.6875: 208||26.625: 135||26.5: 126||26.5625: 124||26.75: 34||27.0625: 23||26.8125: 19||27.6875: 14||27.0: 14||26.9375: 14||26.875: 10||27.5625: 6||27.375: 5||27.25: 5||27.1875: 5||27.4375: 4||27.125: 4||23.0: 2||-127.0: 1||27.75: 1||27.625: 1||27.5: 1||27.3125: 1||"
     ]
    }
   ],
   "source": [
    "# Sort the frequency table by frequency counts in descending order\n",
    "sorted_category_counts = sorted(Temperature_counts.items(), key=lambda x: x[1], reverse=True)\n",
    "\n",
    "# Print the sorted frequency table\n",
    "for category, count in sorted_category_counts:\n",
    "    print(f'{category}: {count}',end='||')"
   ]
  },
  {
   "cell_type": "code",
   "execution_count": 23,
   "metadata": {},
   "outputs": [
    {
     "data": {
      "text/plain": [
       "collections.Counter"
      ]
     },
     "execution_count": 23,
     "metadata": {},
     "output_type": "execute_result"
    }
   ],
   "source": [
    "type(Temperature_counts)"
   ]
  },
  {
   "cell_type": "code",
   "execution_count": 20,
   "metadata": {},
   "outputs": [],
   "source": [
    "import pandas as pd"
   ]
  },
  {
   "cell_type": "code",
   "execution_count": 26,
   "metadata": {},
   "outputs": [
    {
     "name": "stdout",
     "output_type": "stream",
     "text": [
      "    Temperature  count\n",
      "5       24.6250   4234\n",
      "4       24.6875   3917\n",
      "9       24.3750   3565\n",
      "6       24.5625   3460\n",
      "8       24.4375   3455\n",
      "..          ...    ...\n",
      "70      27.3125      1\n",
      "68      27.5000      1\n",
      "65      27.6250      1\n",
      "63      27.7500      1\n",
      "62    -127.0000      1\n",
      "\n",
      "[78 rows x 2 columns]\n"
     ]
    }
   ],
   "source": [
    "# Convert the Counter object into a DataFrame\n",
    "d = pd.DataFrame(list(Temperature_counts.items()), columns=['Temperature', 'count'])\n",
    "\n",
    "# Sort the DataFrame by the count in descending order\n",
    "d = d.sort_values(by='count', ascending=False)\n",
    "\n",
    "# Display the DataFrame\n",
    "print(d)"
   ]
  },
  {
   "cell_type": "markdown",
   "metadata": {},
   "source": [
    "### Frequency_table for Turbudity(NTU)"
   ]
  },
  {
   "cell_type": "code",
   "execution_count": 29,
   "metadata": {},
   "outputs": [
    {
     "name": "stdout",
     "output_type": "stream",
     "text": [
      "    Turbudity  count\n",
      "0         100  46800\n",
      "85         93   4111\n",
      "84         92   4062\n",
      "82         91   2685\n",
      "71         94   2367\n",
      "..        ...    ...\n",
      "14         37      7\n",
      "52         38      7\n",
      "47         44      6\n",
      "28         46      5\n",
      "61         45      3\n",
      "\n",
      "[100 rows x 2 columns]\n"
     ]
    }
   ],
   "source": [
    "Turbudity_counts = Counter(df['Turbidity(NTU)'])\n",
    "# Convert the Counter object into a DataFrame\n",
    "d = pd.DataFrame(list(Turbudity_counts.items()), columns=['Turbudity', 'count'])\n",
    "# Sort the DataFrame by the count in descending order\n",
    "d = d.sort_values(by='count', ascending=False)\n",
    "# Display the DataFrame\n",
    "print(d)"
   ]
  },
  {
   "cell_type": "markdown",
   "metadata": {},
   "source": [
    "### Frequency_table fo Dissolved Oxygen(g/ml)"
   ]
  },
  {
   "cell_type": "code",
   "execution_count": 28,
   "metadata": {},
   "outputs": [
    {
     "name": "stdout",
     "output_type": "stream",
     "text": [
      "      Dissolved Oxygen(g/ml)  count\n",
      "4630                   2.040   1903\n",
      "3956                  38.686   1124\n",
      "354                   38.669   1078\n",
      "4434                  38.702    926\n",
      "512                   38.694    920\n",
      "...                      ...    ...\n",
      "3167                  17.011      1\n",
      "3166                   6.404      1\n",
      "3164                  33.353      1\n",
      "3163                  22.700      1\n",
      "9197                   4.850      1\n",
      "\n",
      "[9198 rows x 2 columns]\n"
     ]
    }
   ],
   "source": [
    "Dissolved_counts = Counter(df['Dissolved Oxygen(g/ml)'])\n",
    "# Convert the Counter object into a DataFrame\n",
    "d = pd.DataFrame(list(Dissolved_counts.items()), columns=['Dissolved Oxygen(g/ml)', 'count'])\n",
    "# Sort the DataFrame by the count in descending order\n",
    "d = d.sort_values(by='count', ascending=False)\n",
    "# Display the DataFrame\n",
    "print(d)"
   ]
  },
  {
   "cell_type": "markdown",
   "metadata": {},
   "source": [
    "### Frequency_table for PH"
   ]
  },
  {
   "cell_type": "code",
   "execution_count": 33,
   "metadata": {},
   "outputs": [
    {
     "name": "stdout",
     "output_type": "stream",
     "text": [
      "          PH  count\n",
      "272  7.12174   2262\n",
      "269  7.12628   2109\n",
      "246  7.09904   2002\n",
      "233  7.31694   1814\n",
      "268  7.13990   1787\n",
      "..       ...    ...\n",
      "465 -0.39107      1\n",
      "466 -0.31844      1\n",
      "467 -0.58627      1\n",
      "468 -0.40923      1\n",
      "595  2.40524      1\n",
      "\n",
      "[596 rows x 2 columns]\n"
     ]
    }
   ],
   "source": [
    "PH_counts = Counter(df['PH'])\n",
    "# Convert the Counter object into a DataFrame\n",
    "d = pd.DataFrame(list(PH_counts.items()), columns=['PH', 'count'])\n",
    "# Sort the DataFrame by the count in descending order\n",
    "d = d.sort_values(by='count', ascending=False)\n",
    "# Display the DataFrame\n",
    "print(d)"
   ]
  },
  {
   "cell_type": "markdown",
   "metadata": {},
   "source": [
    "### Freq table for Ammonia(g/ml)"
   ]
  },
  {
   "cell_type": "code",
   "execution_count": 34,
   "metadata": {},
   "outputs": [
    {
     "name": "stdout",
     "output_type": "stream",
     "text": [
      "      Ammonia(g/ml)  count\n",
      "0           0.45842  23861\n",
      "2343        0.49303    316\n",
      "1963        0.55658    292\n",
      "1977        0.43649    281\n",
      "1958        0.62801    257\n",
      "...             ...    ...\n",
      "2822        1.52331      1\n",
      "2821        1.40748      1\n",
      "2820        1.04325      1\n",
      "2819        0.67770      1\n",
      "3102       10.07556      1\n",
      "\n",
      "[3103 rows x 2 columns]\n"
     ]
    }
   ],
   "source": [
    "k = Counter(df['Ammonia(g/ml)'])\n",
    "# Convert the Counter object into a DataFrame\n",
    "d = pd.DataFrame(list(k.items()), columns=['Ammonia(g/ml)', 'count'])\n",
    "# Sort the DataFrame by the count in descending order\n",
    "d = d.sort_values(by='count', ascending=False)\n",
    "# Display the DataFrame\n",
    "print(d)"
   ]
  },
  {
   "cell_type": "markdown",
   "metadata": {},
   "source": [
    "### Freq table for Nitrate(g/ml)"
   ]
  },
  {
   "cell_type": "code",
   "execution_count": 35,
   "metadata": {},
   "outputs": [
    {
     "name": "stdout",
     "output_type": "stream",
     "text": [
      "      Nitrate(g/ml)  count\n",
      "127             144   2467\n",
      "151             128   1571\n",
      "150             123    793\n",
      "94              176    779\n",
      "121             145    764\n",
      "...             ...    ...\n",
      "181              81      1\n",
      "1163           1240      1\n",
      "177              98      1\n",
      "175              84      1\n",
      "1289           1305      1\n",
      "\n",
      "[1290 rows x 2 columns]\n"
     ]
    }
   ],
   "source": [
    "k = Counter(df['Nitrate(g/ml)'])\n",
    "# Convert the Counter object into a DataFrame\n",
    "d = pd.DataFrame(list(k.items()), columns=['Nitrate(g/ml)', 'count'])\n",
    "# Sort the DataFrame by the count in descending order\n",
    "d = d.sort_values(by='count', ascending=False)\n",
    "# Display the DataFrame\n",
    "print(d)"
   ]
  },
  {
   "cell_type": "markdown",
   "metadata": {},
   "source": [
    "### Freq table for Population "
   ]
  },
  {
   "cell_type": "code",
   "execution_count": 36,
   "metadata": {},
   "outputs": [
    {
     "name": "stdout",
     "output_type": "stream",
     "text": [
      "   Population  count\n",
      "0          50  83072\n"
     ]
    }
   ],
   "source": [
    "k = Counter(df['Population'])\n",
    "# Convert the Counter object into a DataFrame\n",
    "d = pd.DataFrame(list(k.items()), columns=['Population', 'count'])\n",
    "# Sort the DataFrame by the count in descending order\n",
    "d = d.sort_values(by='count', ascending=False)\n",
    "# Display the DataFrame\n",
    "print(d)"
   ]
  },
  {
   "cell_type": "markdown",
   "metadata": {},
   "source": [
    "### Freq table for Fish_Length(cm)"
   ]
  },
  {
   "cell_type": "code",
   "execution_count": 37,
   "metadata": {},
   "outputs": [
    {
     "name": "stdout",
     "output_type": "stream",
     "text": [
      "    Fish_Length(cm)  count\n",
      "10            11.79   4017\n",
      "8             11.01   3895\n",
      "43            21.52   3743\n",
      "32            18.72   3331\n",
      "1              7.50   3205\n",
      "..              ...    ...\n",
      "72            31.57      5\n",
      "39            20.48      3\n",
      "71            31.45      2\n",
      "74            31.82      2\n",
      "55            23.51      1\n",
      "\n",
      "[81 rows x 2 columns]\n"
     ]
    }
   ],
   "source": [
    "k = Counter(df['Fish_Length(cm)'])\n",
    "# Convert the Counter object into a DataFrame\n",
    "d = pd.DataFrame(list(k.items()), columns=['Fish_Length(cm)', 'count'])\n",
    "# Sort the DataFrame by the count in descending order\n",
    "d = d.sort_values(by='count', ascending=False)\n",
    "# Display the DataFrame\n",
    "print(d)"
   ]
  },
  {
   "cell_type": "markdown",
   "metadata": {},
   "source": [
    "### Freq table for Fish_Weight(g)"
   ]
  },
  {
   "cell_type": "code",
   "execution_count": 38,
   "metadata": {},
   "outputs": [
    {
     "name": "stdout",
     "output_type": "stream",
     "text": [
      "    Fish_Weight(g)  count\n",
      "10           14.19   4017\n",
      "8            12.31   3895\n",
      "43           68.40   3743\n",
      "32           61.69   3331\n",
      "1             3.85   3205\n",
      "..             ...    ...\n",
      "72          267.39      5\n",
      "39           66.64      3\n",
      "71          264.20      2\n",
      "74          273.77      2\n",
      "55          104.49      1\n",
      "\n",
      "[81 rows x 2 columns]\n"
     ]
    }
   ],
   "source": [
    "k = Counter(df['Fish_Weight(g)'])\n",
    "# Convert the Counter object into a DataFrame\n",
    "d = pd.DataFrame(list(k.items()), columns=['Fish_Weight(g)', 'count'])\n",
    "# Sort the DataFrame by the count in descending order\n",
    "d = d.sort_values(by='count', ascending=False)\n",
    "# Display the DataFrame\n",
    "print(d)"
   ]
  },
  {
   "cell_type": "code",
   "execution_count": 42,
   "metadata": {},
   "outputs": [],
   "source": [
    "import matplotlib.pyplot as plt"
   ]
  },
  {
   "cell_type": "code",
   "execution_count": 41,
   "metadata": {},
   "outputs": [
    {
     "data": {
      "image/png": "[encoded data removed]",
      "text/plain": [
       "<Figure size 640x480 with 9 Axes>"
      ]
     },
     "metadata": {},
     "output_type": "display_data"
    }
   ],
   "source": [
    "# Plot a histogram for each numerical column\n",
    "df.hist(edgecolor='black', linewidth=3.0)\n",
    "plt.show()"
   ]
  },
  {
   "cell_type": "code",
   "execution_count": 44,
   "metadata": {},
   "outputs": [],
   "source": [
    "import seaborn as sns"
   ]
  },
  {
   "cell_type": "code",
   "execution_count": 45,
   "metadata": {},
   "outputs": [
    {
     "data": {
      "image/png": "[encoded data removed]",
      "text/plain": [
       "<Figure size 1000x800 with 2 Axes>"
      ]
     },
     "metadata": {},
     "output_type": "display_data"
    }
   ],
   "source": [
    "# Calculate the correlation matrix\n",
    "corr = df.corr()\n",
    "\n",
    "# Display the correlation matrix as a heatmap\n",
    "plt.figure(figsize=(10, 8))\n",
    "sns.heatmap(corr, annot=True, cmap='coolwarm')\n",
    "plt.show()"
   ]
  },
  {
   "cell_type": "code",
   "execution_count": 47,
   "metadata": {},
   "outputs": [
    {
     "data": {
      "image/png": "[encoded data removed]",
      "text/plain": [
       "<Figure size 640x480 with 1 Axes>"
      ]
     },
     "metadata": {},
     "output_type": "display_data"
    }
   ],
   "source": [
    "# Plot a histogram for the target variable\n",
    "df['PH'].hist(edgecolor='black', linewidth=1.2)\n",
    "plt.show()"
   ]
  },
  {
   "cell_type": "code",
   "execution_count": 48,
   "metadata": {},
   "outputs": [
    {
     "data": {
      "image/png": "[encoded data removed]",
      "text/plain": [
       "<Figure size 1000x800 with 1 Axes>"
      ]
     },
     "metadata": {},
     "output_type": "display_data"
    }
   ],
   "source": [
    "# Calculate the correlation between the numerical columns and the target variable\n",
    "corr_target = df.corr()['PH']\n",
    "\n",
    "# Display the correlation as a bar chart\n",
    "plt.figure(figsize=(10, 8))\n",
    "sns.barplot(x=corr_target.index, y=corr_target.values, alpha=0.8)\n",
    "plt.title('Correlation with Target Variable')\n",
    "plt.show()"
   ]
  },
  {
   "cell_type": "markdown",
   "metadata": {
    "id": "0mSrmqIsA1Xv"
   },
   "source": [
    "# Conclusion: We have performed Data Analysis(EDA)/ preprocessing of dataset. In our dataset we are focusing on maintain the Ph qaulity of water for certain sets conditions."
   ]
  },
  {
   "cell_type": "markdown",
   "metadata": {
    "id": "LgJx3VE1BUfG"
   },
   "source": [
    "# My GitHub_proje Link: https://github.com/shivam2952002/L-and-T-project-"
   ]
  },
  {
   "cell_type": "code",
   "execution_count": null,
   "metadata": {},
   "outputs": [],
   "source": []
  }
 ],
 "metadata": {
  "accelerator": "TPU",
  "colab": {
   "provenance": []
  },
  "kernelspec": {
   "display_name": "Python 3 (ipykernel)",
   "language": "python",
   "name": "python3"
  },
  "language_info": {
   "codemirror_mode": {
    "name": "ipython",
    "version": 3
   },
   "file_extension": ".py",
   "mimetype": "text/x-python",
   "name": "python",
   "nbconvert_exporter": "python",
   "pygments_lexer": "ipython3",
   "version": "3.9.5"
  }
 },
 "nbformat": 4,
 "nbformat_minor": 1
}
